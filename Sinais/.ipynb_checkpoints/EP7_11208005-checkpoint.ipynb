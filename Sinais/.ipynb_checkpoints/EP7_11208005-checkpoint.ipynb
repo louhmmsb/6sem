{
 "cells": [
  {
   "cell_type": "markdown",
   "metadata": {
    "slideshow": {
     "slide_type": "slide"
    }
   },
   "source": [
    "# Atividade Prática 7\n",
    "\n",
    "## Família de Wavelets de Haar e Representações Matriciais\n",
    "\n",
    "### Entrega: até 10/12/2021 às 23:59 no e-disciplinas\n",
    "\n",
    "#### Nome: Lourenço Henrique Moinheiro Martins Sborz Bogo N° USP: 11208005  (X) Grad ( ) Pós"
   ]
  },
  {
   "cell_type": "code",
   "execution_count": null,
   "metadata": {
    "slideshow": {
     "slide_type": "skip"
    }
   },
   "outputs": [],
   "source": [
    "# importa dependências\n",
    "import math as m\n",
    "import numpy as np\n",
    "from scipy.linalg import circulant\n",
    "import matplotlib.pyplot as plt\n",
    "from ipywidgets import Dropdown, interactive"
   ]
  },
  {
   "cell_type": "markdown",
   "metadata": {
    "slideshow": {
     "slide_type": "slide"
    }
   },
   "source": [
    "### Revisão: Formas básicas de onda associadas a uma transformada genérica\n",
    "\n",
    "Como vimos no caso da DFT e da DCT em $\\mathbb{C}^N$, essas transformadas possuem uma representação matricial de tal forma que a equação de análise (transformada direta) sempre pode ser representada por uma equação\n",
    "\n",
    "$$X = \\mathcal{A}x$$\n",
    "\n",
    "para alguma matriz $\\mathcal{A}\\in\\mathcal{M}_{N\\times N}(\\mathbb{C})$ adequada. Para a transformada de Fourier, por exemplo, vimos na seção 2.5.1 que $\\mathcal{A} = \\mathcal{F}_N$ com componentes\n",
    "\n",
    "$$\\left(\\mathcal{F}_N\\right)_{k,n} = e^{-i2\\pi k n/N},$$\n",
    "\n",
    "ao passo que para a DCT vimos na seção 3.4.3 que $\\mathcal{A} = \\mathcal{C}_N$ com componentes\n",
    "\n",
    "$$\\begin{equation*}\n",
    "\t(\\mathcal{C}_N)_{k,m} = \\left\\{\\begin{array}{ll}\n",
    "\t\t\\sqrt{\\frac{1}{N}} & \\text{ se }k = 0 \\\\\n",
    "\t\t\\sqrt{\\frac{2}{N}}\\cos\\left(\\frac{\\pi k\\left(m + \\frac{1}{2}\\right)}{N}\\right) & \\text{ se } k = 1, 2, \\dots, N-1.\n",
    "\t\\end{array}\\right.\n",
    "\\end{equation*}$$"
   ]
  },
  {
   "cell_type": "markdown",
   "metadata": {
    "slideshow": {
     "slide_type": "subslide"
    }
   },
   "source": [
    "Em qualquer um dos casos anteriores, a equação de síntese (transformada inversa) era sempre dada por\n",
    "\n",
    "$$x = \\mathcal{A}^{-1}X = \\sum_{k=0}^{N-1}X_kV_k$$\n",
    "\n",
    "onde a função básica $V_k$ é a k-ésima coluna de $\\mathcal{A}^{-1}$, ou seja,\n",
    "\n",
    "$$V_k = \\mathcal{A}^{-1}\\varepsilon_k,$$\n",
    "\n",
    "onde $\\varepsilon_k=(0,\\ldots,0,\\overbrace{1}^k,0,\\ldots,0)\\in\\mathbb{C}^N$ é o $k$-ésimo vetor da base canônica.\n",
    "\n",
    "Na DFT, tínhamos $V_k=E_k=\\text{IDFT}(\\varepsilon_k)$, a $k$-ésima forma básica de onda de Fourier correspondendo a uma exponencial complexa de frequência $k$ (ciclos por $N$ amostras), amostrada nos instantes $n=0,1,\\ldots,N-1$, enquanto na DCT tínhamos $V_k=\\mathcal{C}_k=\\text{IDCT}(\\varepsilon_k)$, uma função cossenoidal de frequência $\\frac{k}{2}$ (ciclos por $N$ amostras), amostrada em instantes da forma $m+\\frac{1}{2}$ para $m=0,1,\\ldots,N-1$.\n",
    "\n",
    "Na DWT, teremos analogamente $V_k=\\text{IDWT}(\\varepsilon_k)$, que são as funções básicas que gostaríamos de conhecer agora.\n"
   ]
  },
  {
   "cell_type": "markdown",
   "metadata": {
    "slideshow": {
     "slide_type": "subslide"
    }
   },
   "source": [
    "### E as formas básicas de onda das transformadas Wavelet?\n",
    "\n",
    "Devemos lembrar que existem inúmeras transformadas Wavelet, que dependem do banco de filtros da forma $\\{\\ell_a,h_a,\\ell_s,h_s\\}$ satisfazendo a propriedade de reconstrução perfeita, e do número $M$ de níveis/estágios em que o banco de filtros é iterado.\n",
    "\n",
    "No caso do banco de filtros ortogonal de Haar\n",
    "\n",
    "$$\\begin{array}{cc}\n",
    "\\ell_a = (\\ldots,0,\\overbrace{\\frac{\\sqrt{2}}{2}}^{n=0},\\frac{\\sqrt{2}}{2},0,\\ldots) &\n",
    "h_a = (\\ldots,0,\\overbrace{\\frac{\\sqrt{2}}{2}}^{n=0},-\\frac{\\sqrt{2}}{2},0,\\ldots)\\\\\n",
    "\\ell_s = (\\ldots,0,\\frac{\\sqrt{2}}{2},\\overbrace{\\frac{\\sqrt{2}}{2}}^{n=0},0,\\ldots) &\n",
    "h_s = (\\ldots,0,-\\frac{\\sqrt{2}}{2},\\overbrace{\\frac{\\sqrt{2}}{2}}^{n=0},0,\\ldots)\n",
    "\\end{array}$$\n",
    "\n",
    "as formas básicas de onda podem ser obtidas como as colunas da inversa da matriz $\\mathcal{W}_N^M$, que representa a transformada Wavelet em $\\mathbb{C}^N$ do banco de filtros ortogonal de Haar de $M$ estágios."
   ]
  },
  {
   "cell_type": "markdown",
   "metadata": {
    "slideshow": {
     "slide_type": "subslide"
    }
   },
   "source": [
    "A DWT em $M$ estágios é definida pela aplicação iterada $M$ vezes da transformação\n",
    "\n",
    "$$x\\mapsto(X_l,X_h)\\mapsto(X_{ll},X_{lh},X_h)\\mapsto(X_{lll},X_{llh},X_{lh},X_h)\\mapsto\\cdots$$\n",
    "\n",
    "onde no $(m+1)$-ésimo estágio o segmento inicial $y=X_{\\underbrace{l\\ldots l}_m}\\in\\mathbb{C}^{\\frac{N}{2^m}}$ é transformado de acordo com as equações\n",
    "\n",
    "$$y\\longrightarrow\\begin{array}{|l}\n",
    "\\longrightarrow X_{\\underbrace{l\\ldots l}_ml} = D(\\ell_a*y)\\quad\\quad\\in\\mathcal{C}^{\\frac{N}{2^{m+1}}},\\\\\n",
    "\\longrightarrow X_{\\underbrace{l\\ldots l}_mh} = D(h_a*y)\\quad\\quad\\in\\mathcal{C}^{\\frac{N}{2^{m+1}}},\\end{array}$$\n",
    "\n",
    "sendo que todas as convoluções são *circulares*, e as subamostragens selecionam apenas os índices pares, reduzindo à metade o tamanho dos vetores."
   ]
  },
  {
   "cell_type": "markdown",
   "metadata": {
    "slideshow": {
     "slide_type": "slide"
    }
   },
   "source": [
    "### Explorando as formas básicas de onda da transformada de Haar em $M$ estágios\n",
    "\n",
    "Antes de implementarmos qualquer coisa, vamos olhar uma implementação que já existe, a fim de ganharmos intuição sobre as propriedades da família de Wavelets de Haar\n",
    "\n",
    "$$\\big\\{W_k\\big\\}_{k=0}^{N-1}\\quad\\quad\\text{onde}\\quad\\quad W_k = \\left(\\mathcal{W}_N^M\\right)^{-1}\\varepsilon_k=\\text{IDWT}_N^M(\\varepsilon_k).$$\n",
    "\n",
    "Leia os códigos a seguir, que implementam a DWT e a IDWT de $M$ estágios em $\\mathbb{C}^N$, e explore a interface interativa que permite visualizar as formas básicas de onda para diversos valores de $M$ e $N$. Em seguida, responda às perguntas das caixas de texto."
   ]
  },
  {
   "cell_type": "code",
   "execution_count": null,
   "metadata": {
    "slideshow": {
     "slide_type": "subslide"
    }
   },
   "outputs": [],
   "source": [
    "from numpy.fft import fft,ifft\n",
    "\n",
    "# convolução circular usando FFT\n",
    "def cconv(x,h):    # considera que |h|<=|x|\n",
    "    hpad = np.zeros(len(x))\n",
    "    hpad[:len(h)] = h\n",
    "    return np.real(ifft(fft(x)*fft(hpad)))"
   ]
  },
  {
   "cell_type": "code",
   "execution_count": null,
   "metadata": {
    "slideshow": {
     "slide_type": "subslide"
    }
   },
   "outputs": [],
   "source": [
    "# DWT ortogonal de Haar com M estágios\n",
    "# Obs: essa mesma implementação serve para outros bancos de filtros, sendo que, se \n",
    "# forem causais, apenas as duas linhas que definem la e ha precisam ser alteradas.\n",
    "# Se os filtros não forem causais, será necessário fazer um shift circular das saídas\n",
    "# das convoluções usando a função np.roll(..., -L), onde L é o número de coeficientes\n",
    "# do filtro com índices negativos.\n",
    "def dwt_haar(x, M=1):\n",
    "    # filtros de análise de Haar (definidos para n=0,1)\n",
    "    c = m.sqrt(2)/2\n",
    "    la = np.array([c, c]) # filtro passa-baixas\n",
    "    ha = np.array([c, -c]) # filtro passa-altas\n",
    "    # inicializa vetor X de saída com uma cópia de x\n",
    "    N = len(x)\n",
    "    X = np.ndarray(np.shape(x))\n",
    "    X[:] = x\n",
    "    # em cada estágio j, codificaremos o vetor\n",
    "    # y = X_{ll...l} = coefs de aproximação do estágio anterior\n",
    "    for j in range(M):\n",
    "        y = X.copy()[:N] # seleciona o trecho a codificar\n",
    "        X[:N//2] = cconv(y,la)[::2] # Xl = D(x*l)\n",
    "        X[N//2:N] = cconv(y,ha)[::2] # Xh = D(x*h)\n",
    "        N = N//2 # próximo estágio processará metade do vetor\n",
    "    return X"
   ]
  },
  {
   "cell_type": "code",
   "execution_count": null,
   "metadata": {
    "slideshow": {
     "slide_type": "subslide"
    }
   },
   "outputs": [],
   "source": [
    "# IDWT ortogonal de Haar com M estágios\n",
    "# Obs: essa mesma implementação serve para outros bancos de filtros. Para o banco\n",
    "# de filtros de Haar, cada filtro de síntese possui L=1 coeficientes com índices\n",
    "# negativos, e por isso as saídas das convoluções são corrigidas por um shift\n",
    "# circular usando a função np.roll(..., -L).\n",
    "def idwt_haar(X, M=1):\n",
    "    # filtros de síntese de Haar (definidos para n=-1,0)\n",
    "    c = m.sqrt(2)/2\n",
    "    ls = np.array([ c, c ]) # filtro passa-baixas\n",
    "    hs = np.array([ -c, c ]) # filtro passa-altas\n",
    "    # inicializa vetor x da saída\n",
    "    x = X.copy()\n",
    "    # começa a reconstrução do último nível\n",
    "    n = len(X)//2**M\n",
    "    for j in range(M,0,-1):\n",
    "        # coeficientes de aproximação e detalhes do nível j\n",
    "        cA, cD = x[:n], x[n:2*n]\n",
    "        # superamostragem\n",
    "        UXl = np.zeros(2*n); UXl[::2] = cA\n",
    "        UXh = np.zeros(2*n); UXh[::2] = cD\n",
    "        # filtragem (a função np.roll ajusta o shift dos filtros de síntese)\n",
    "        vl, vh = np.roll(cconv(UXl, ls), -1), np.roll(cconv(UXh, hs), -1)\n",
    "        x[:2*n] = vl+vh # combina canais\n",
    "        n = n*2 # próximo nível terá o dobro dos coeficientes\n",
    "    return x"
   ]
  },
  {
   "cell_type": "markdown",
   "metadata": {
    "slideshow": {
     "slide_type": "slide"
    }
   },
   "source": [
    "#### A interface a seguir plota a família de funções $\\{W_k\\}$ para $N$ e $M$ escolhidos"
   ]
  },
  {
   "cell_type": "code",
   "execution_count": null,
   "metadata": {
    "slideshow": {
     "slide_type": "skip"
    }
   },
   "outputs": [],
   "source": [
    "# Dimensão do espaço\n",
    "Nval = Dropdown(options=[4,8,16,32], value=4, \n",
    "             description='Dimensão: ', style={'description_width': 'initial'})\n",
    "\n",
    "# Número de estágios da DWT\n",
    "Mval = Dropdown(options=[1,2], value=1, \n",
    "             description='Estágios: ', style={'description_width': 'initial'})\n",
    "\n",
    "# Redefine o menu Dropdown do M cada vez que N é alterado\n",
    "def updateM(x):\n",
    "    global Nval\n",
    "    global Mval\n",
    "    Mval.index = 0\n",
    "    Mval.options = range(1,int(m.log2(Nval.value)+1))\n",
    "\n",
    "# Opção para usar a função definida no exercício 2\n",
    "Exercicio = Dropdown(options=[True, False], value=False, \n",
    "             description='Minha solução: ', style={'description_width': 'initial'})\n",
    "\n",
    "def plota_familia(N,M,Exercicio):\n",
    "    # testa se é possível ir até o M-ésimo estágio\n",
    "    # (apenas para chamadas diretas da função, pois a interface abaixo não permite)\n",
    "    if 2**M>N:\n",
    "        M = int(m.log2(N))\n",
    "        print(f\"Usando estágio máximo M={M} para N={N}\")\n",
    "    # testa se Exercício=True sem a função estar implementada\n",
    "    if Exercicio and \"matrizDWT\" not in globals():\n",
    "        print(\"Você ainda não implementou a função do exercício 2.\")\n",
    "        print(\"Ignorando a opção Minha Solução=True.\")\n",
    "        Exercicio = False\n",
    "    # configura dimensões das figuras\n",
    "    L = int(m.sqrt(N))\n",
    "    A = N//L if N%L==0 else N//L+1\n",
    "    fig, ax = plt.subplots(A,L,figsize=(15, 5*A))\n",
    "    # cria vetor da base canônica para gerar formas básicas de onda pela IDWT\n",
    "    X = np.zeros(N)\n",
    "    index = 0,0 # usado para posicionar a figura\n",
    "    for i in range(N):\n",
    "        X[i] = 1; # marca i-ésimo vetor da base canônica\n",
    "        if not Exercicio: # essa é a implementação dada\n",
    "            x = idwt_haar(X,M=M)\n",
    "        else: # essa é a implementação que você deverá fazer\n",
    "            x = np.linalg.inv(matrizDWT(N,M)).dot(X)\n",
    "        X[i] = 0 # restaura vetor para próxima iteração\n",
    "        # formata a figura para evitar a interpolação linear dos coeficientes:\n",
    "        # cada valor X_k é \"mantido\" até quase o índice k+1 (sample-and-hold)\n",
    "        x = np.append(x,x[N-1])\n",
    "        ax[index].step(range(N+1),x,where='post')\n",
    "        ax[index].set_title(f'W[{i}]')\n",
    "        ax[index].axis([0,N,-1,1])\n",
    "        # atualiza posição da figura\n",
    "        if index[1]<L-1:\n",
    "            index = index[0],index[1]+1\n",
    "        else:\n",
    "            index = index[0]+1,0\n",
    "    # limpa últimos gráficos vazios\n",
    "    for i in range(N,L*A):\n",
    "        ax[index].axis('off')\n",
    "        # atualiza posição da figura\n",
    "        if index[1]<L-1:\n",
    "            index = index[0],index[1]+1\n",
    "        else:\n",
    "            index = index[0]+1,0\n",
    "    plt.show()\n",
    "\n",
    "# configura as opções do número de estágios cada vez que a dimensão varia\n",
    "\n",
    "Nval.observe(updateM)"
   ]
  },
  {
   "cell_type": "code",
   "execution_count": null,
   "metadata": {
    "scrolled": false,
    "slideshow": {
     "slide_type": "fragment"
    }
   },
   "outputs": [],
   "source": [
    "# interface gráfica interativa para gerar formas básicas de onda da DWT de Haar\n",
    "interactive(plota_familia, N=Nval, M=Mval, Exercicio=Exercicio)"
   ]
  },
  {
   "cell_type": "markdown",
   "metadata": {
    "slideshow": {
     "slide_type": "slide"
    }
   },
   "source": [
    "---\n",
    "\n",
    "#### Exercício 1: Responda as perguntas abaixo.\n",
    "\n",
    "**a)** Comente as propriedades que você observa nas formas de onda usando os valores $N=4,8,16,32$ e a transformada de $M=1$ estágio. Elas parecem ter alguma relação com os coeficientes dos filtros $\\ell_a$ e $h_a$? Quais são as diferenças e semelhanças entre as formas $W_k$ para $k<\\frac{N}{2}$ e para $k\\ge\\frac{N}{2}$?"
   ]
  },
  {
   "cell_type": "markdown",
   "metadata": {
    "slideshow": {
     "slide_type": "subslide"
    }
   },
   "source": [
    "##### Resposta do exercício 1a:\n",
    "\n",
    "As formas de onda formam uma base ortonormal. Sim, os picos das formas de onda têm valor igual ao coeficiente máximo dos filtros, enquanto os vales têm valor igual ao coeficiente mínimo dos filtros. A semelhança é que as 2 partes são compostas apenas pelos valoes 0, $\\frac{\\sqrt{2}}{2}$ e $-\\frac{\\sqrt{2}}{2}$. A grande diferença é que os valores da primeira metade são sempre não negativos e os valores da segunda metade são mistos (alguns zero, alguns positivos e outros negativos). Isso se dá pelo fato de que a primeira metade é formada pelo filtro passa-baixo, que tem apenas coeficientes positivos, enquanto a segunda metade é formada pelo filtro passa-alto que tem coeficientes posivitos e negativos."
   ]
  },
  {
   "cell_type": "markdown",
   "metadata": {
    "slideshow": {
     "slide_type": "subslide"
    }
   },
   "source": [
    "**b)** Considerando os valores mais altos ($N=16,32$), varie o número de estágios $M$ da transformada e observe quais formas de onda são alteradas. Você consegue detectar algum padrão? Há formas que não mudam de $M=1$ para $M=2$? E de $M=2$ para $M=3$? No caso das formas que mudam quando $M$ aumenta, que tipo de perfil elas tinham antes ($M$ menor) e depois ($M$ maior)? Há alguma relação geométrica notável entre as formas básicas de onda através dos diversos estágios da transformada?"
   ]
  },
  {
   "cell_type": "markdown",
   "metadata": {
    "slideshow": {
     "slide_type": "subslide"
    }
   },
   "source": [
    "##### Resposta do exercício 1b:\n",
    "\n",
    "O padrão é que as alterações ocorrem sempre nas primeiras $\\frac{N}{2^{M-1}}$ formas de onda (considerando que quando M é 1, todos os valores mudam, pois estamos começando agora). Isso faz sentido, pois sempre que aplicamos a transformada novamente, pegamos apenas a parte que apenas sofreu aplicações do filtro passa-baixo e dividimos ela em duas: uma com mais uma aplicação do passa-baixo e uma com uma aplicação do passa-alto. As formas que mudam, antes eram sempre positivas, pois tinham sofrido apenas aplicações do filtro passa-alto, e depois são metade sempre positivas (a primeira metade) e metade negativas, pelos motivos explicados anteriormente.\n",
    "\n",
    "As formas de onda que sofreram número igual de aplicações do filtro passa-baixo têm o mesmo formato, porém transladado no eixo x.  "
   ]
  },
  {
   "cell_type": "markdown",
   "metadata": {
    "slideshow": {
     "slide_type": "slide"
    }
   },
   "source": [
    "### Representação matricial da DWT em 1 estágio\n",
    "\n",
    "Vimos que a transformada em 1 estágio, que corresponde à transformação\n",
    "\n",
    "$$x\\mapsto(X_l,X_h)=\\begin{bmatrix}D(\\ell_a*x)\\\\D(h_a*x)\\end{bmatrix},$$\n",
    "\n",
    "pode ser representada matricialmente se considerarmos a representação matricial da convolução\n",
    "\n",
    "$$y*x = M_yx$$\n",
    "\n",
    "onde $M_y\\in\\mathcal{M}_{N\\times N}(\\mathbb{C})$ é a matriz circulante associada a $y$, cujas entradas são $(M_y)_{i,j}=y_{i-j\\ \\%\\ N}$, e também considerando que a subamostragem $D$ seleciona apenas as *linhas pares* daquela matriz, ou seja\n",
    "\n",
    "$$D(y*x) = DM_yx = (DM_y)x = \\begin{pmatrix}\\text{linha}\\ 0\\ \\text{de}\\ M_y\\\\\\text{linha}\\ 2\\ \\text{de}\\ M_y\\\\\\vdots\\\\\\text{linha}\\ N-2\\ \\text{de}\\ M_y\\\\\\end{pmatrix}x,$$\n",
    "\n",
    "o que pode ser implementado em Python usando *fatiamento* dos índices pares da matrix $M_y$."
   ]
  },
  {
   "cell_type": "markdown",
   "metadata": {
    "slideshow": {
     "slide_type": "subslide"
    }
   },
   "source": [
    "Assim,\n",
    "\n",
    "$$x\\mapsto(X_l,X_h)=\\begin{bmatrix}D(\\ell_a*x)\\\\D(h_a*x)\\end{bmatrix}\n",
    "=\\begin{bmatrix}DM_{\\ell_a}x\\\\DM_{h_a}x\\end{bmatrix}\n",
    "=\\begin{bmatrix}L_N^1\\\\H_N^1\\end{bmatrix}x = \\mathcal{W}_N^Mx$$\n",
    "\n",
    "onde $\\mathcal{W}_N^1=\\begin{bmatrix}L_N^1\\\\H_N^1\\end{bmatrix}$, sendo que $L_N^1\\in\\mathcal{M}_{\\frac{N}{2}\\times N}(\\mathbb{C})$ é a matriz formada *apenas pelas linhas pares* da matriz circulante $M_{\\ell_a}$, e $H_N^1\\in\\mathcal{M}_{\\frac{N}{2}\\times N}(\\mathbb{C})$ é a matriz formada apenas pelas linhas pares da matriz circulante $M_{h_a}$."
   ]
  },
  {
   "cell_type": "markdown",
   "metadata": {
    "slideshow": {
     "slide_type": "slide"
    }
   },
   "source": [
    "### Representação matricial da DWT em $M$ estágios\n",
    "\n",
    "Lembrando que a DWT em vários estágios *conserva todos os coeficientes de detalhes de estágios anteriores*, e a cada passo apenas recodifica os coeficientes de aproximação do último estágio, que correspondem aos primeiros $\\frac{N}{2^m}$ coeficientes no estágio $m+1$, vemos que a estrutura da matriz que representa essa recodificação só é alterada nas suas primeiras $\\frac{N}{2^m}$ linhas.\n",
    "\n",
    "Assim, para passar da DWT de 1 estágio para a de 2 estágios, é necessário considerar as matrizes que representam as DWTs de 1 estágio em $\\mathbb{C}^N$ e $\\mathbb{C}^{\\frac{N}{2}}$:\n",
    "\n",
    "$$\\mathcal{W}_N^1=\\begin{bmatrix}L_N^1\\\\H_N^1\\end{bmatrix}\\in\\mathcal{M}_{N\\times N}(\\mathbb{C})\\quad\\quad\\text{e}\\quad\\quad\\mathcal{W}_{N/2}^1=\\begin{bmatrix}L_{N/2}^1\\\\H_{N/2}^1\\end{bmatrix}\\in\\mathcal{M}_{\\frac{N}{2}\\times\\frac{N}{2}}(\\mathbb{C}),$$\n",
    "\n",
    "e construir a matriz\n",
    "\n",
    "$$\\mathcal{W}_N^2=\\begin{bmatrix}\\mathcal{W}_{N/2}^1L_N^1\\\\H_N^1\\end{bmatrix}\n",
    "= \\begin{bmatrix}L_N^2\\\\H_N^2\\\\H_N^1\\end{bmatrix},$$\n",
    "\n",
    "onde $L_N^2$ e $H_N^2$ são respectivamente as primeiras $\\frac{N}{4}$ e as últimas $\\frac{N}{4}$ linhas de $\\mathcal{W}_{N/2}^1L_N^1\\in\\mathcal{M}_{\\frac{N}{2}\\times N}(\\mathbb{C})$."
   ]
  },
  {
   "cell_type": "markdown",
   "metadata": {
    "slideshow": {
     "slide_type": "slide"
    }
   },
   "source": [
    "Para generalizar esse processo, devemos então a cada estágio $m=1,2,\\ldots,M$ substituir o bloco inicial $L_N^m\\in\\mathcal{M}_{\\frac{N}{2^m}\\times N}$ da matriz\n",
    "$$\\mathcal{W}_N^m = \\begin{bmatrix}L_N^m\\\\H_N^{m}\\\\H_N^{m-1}\\\\\\vdots\\\\H_N^1\\end{bmatrix}$$\n",
    "\n",
    "por sua recodificação $\\mathcal{W}_{N/2^m}^1L_N^m = \\begin{bmatrix}L_N^{m+1}\\\\H_N^{m+1}\\end{bmatrix},$\n",
    "obtendo assim a matriz que representa a DWT no estágio $m+1$:\n",
    "\n",
    "$$\\mathcal{W}_N^{m+1} = \\begin{bmatrix}L_N^{m+1}\\\\H_N^{m+1}\\\\H_N^{m}\\\\H_N^{m-1}\\\\\\vdots\\\\H_N^1\\end{bmatrix}$$"
   ]
  },
  {
   "cell_type": "markdown",
   "metadata": {
    "slideshow": {
     "slide_type": "slide"
    }
   },
   "source": [
    "#### Exercício 2\n",
    "\n",
    "Implemente uma função <tt>matrizDWT(N,M)</tt> que devolva a matriz $N\\times N$ que represente a DWT de $M$ estágios em $\\mathbb{C}^N$. Volte à interface interativa anterior e verifique que ela continua produzindo as mesmas matrizes com a opção <tt>\"Exercício=True\"</tt>.\n",
    "\n",
    "**Dicas:** *Use a função <tt>circulant</tt> (já importada) sobre os vetores de coeficientes do filtro completados com zeros em $\\mathbb{C}^N$, e preocupe-se inicialmente com o caso $M=1$, testando sua função com as chamadas*\n",
    "\n",
    "<tt>print(matrizDWT(4,1))<br>\n",
    "print(matrizDWT(8,1))</tt>\n",
    "\n",
    "*Apenas depois de se certificar de que a função funciona para $M=1$, preocupe-se com o caso $M>1$. Você pode resolvê-lo tanto usando recursão (com uma única chamada recursiva de sua função) quanto de forma interativa (com um laço que faz $\\log_2(N)$ chamadas recursivas). Teste o caso geral com as chamadas*\n",
    "\n",
    "<tt>print(matrizDWT(4,2))<br>\n",
    "print(matrizDWT(8,2))<br>\n",
    "print(matrizDWT(8,3))</tt>\n",
    "\n",
    "*e compare os resultados com as matrizes disponíveis no anexo ao final deste notebook*."
   ]
  },
  {
   "cell_type": "code",
   "execution_count": null,
   "metadata": {
    "slideshow": {
     "slide_type": "subslide"
    }
   },
   "outputs": [],
   "source": [
    "# Resposta do exercício 2\n",
    "def matrizDWT(N, M):\n",
    "    c = np.sqrt(2)/2\n",
    "    ls = np.pad(np.array([ c, c ]), (0, N-2))\n",
    "    hs = np.pad(np.array([ c, -c ]), (0, N-2))\n",
    "    Mls = circulant(ls)\n",
    "    Mhs = circulant(hs)\n",
    "    if M == 1:\n",
    "        return np.concatenate((Mls[::2], Mhs[::2]))\n",
    "    \n",
    "    W = matrizDWT(N, M-1)\n",
    "    L = W[:(N//2**(M-1))]\n",
    "    W2 = matrizDWT(N//2**(M-1), 1)\n",
    "    return np.concatenate((W2@L, W[(N//2**(M-1)):]))\n",
    "   \n",
    "print(matrizDWT(4,1))\n",
    "print(matrizDWT(8,1))\n",
    "print(matrizDWT(4,2))\n",
    "print(matrizDWT(8,2))\n",
    "print(matrizDWT(8,3))"
   ]
  },
  {
   "cell_type": "markdown",
   "metadata": {
    "slideshow": {
     "slide_type": "subslide"
    }
   },
   "source": [
    "### Anexo\n",
    "\n",
    "$$\\mathcal{W}_{4}^{1} = \\begin{bmatrix} \\frac{\\sqrt{2}}{2}&0&0&\\frac{\\sqrt{2}}{2}\\\\\n",
    "  0&\\frac{\\sqrt{2}}{2}&\\frac{\\sqrt{2}}{2}&0\\\\\n",
    "\\frac{\\sqrt{2}}{2}&0&0&-\\frac{\\sqrt{2}}{2}\\\\\n",
    "  0&-\\frac{\\sqrt{2}}{2}&\\frac{\\sqrt{2}}{2}&0&\\end{bmatrix}$$\n",
    "  \n",
    "$$\\mathcal{W}_{4}^{2} = \\begin{bmatrix} \\frac{1}{2}&\\frac{1}{2}&\\frac{1}{2}&\\frac{1}{2}\\\\\n",
    "\\frac{1}{2}&-\\frac{1}{2}&-\\frac{1}{2}&\\frac{1}{2}\\\\\n",
    "\\frac{\\sqrt{2}}{2}&0&0&-\\frac{\\sqrt{2}}{2}\\\\\n",
    "  0&-\\frac{\\sqrt{2}}{2}&\\frac{\\sqrt{2}}{2}&0&\\end{bmatrix}$$"
   ]
  },
  {
   "cell_type": "markdown",
   "metadata": {
    "slideshow": {
     "slide_type": "subslide"
    }
   },
   "source": [
    "  \n",
    "$$\\mathcal{W}_{8}^{1} = \\begin{bmatrix} \\frac{\\sqrt{2}}{2}&0&0&0&0&0\n",
    "&0&\\frac{\\sqrt{2}}{2}\\\\\n",
    "  0&\\frac{\\sqrt{2}}{2}&\\frac{\\sqrt{2}}{2}&0&0&0\n",
    "&0&0\\\\\n",
    "  0&0&0&\\frac{\\sqrt{2}}{2}&\\frac{\\sqrt{2}}{2}&0\n",
    "&0&0\\\\\n",
    "  0&0&0&0&0&\\frac{\\sqrt{2}}{2}\n",
    "&\\frac{\\sqrt{2}}{2}&0\\\\\n",
    "\\frac{\\sqrt{2}}{2}&0&0&0&0&0\n",
    "&0&-\\frac{\\sqrt{2}}{2}\\\\\n",
    "  0&-\\frac{\\sqrt{2}}{2}&\\frac{\\sqrt{2}}{2}&0&0&0\n",
    "&0&0\\\\\n",
    "  0&0&0&-\\frac{\\sqrt{2}}{2}&\\frac{\\sqrt{2}}{2}&0\n",
    "&0&0\\\\\n",
    "  0&0&0&0&0&-\\frac{\\sqrt{2}}{2}\n",
    "&\\frac{\\sqrt{2}}{2}&0&\\end{bmatrix}$$"
   ]
  },
  {
   "cell_type": "markdown",
   "metadata": {
    "slideshow": {
     "slide_type": "subslide"
    }
   },
   "source": [
    "$$\\mathcal{W}_{8}^{2} = \\begin{bmatrix} \\frac{1}{2}&0&0&0&0&\\frac{1}{2}\n",
    "&\\frac{1}{2}&\\frac{1}{2}\\\\\n",
    "  0&\\frac{1}{2}&\\frac{1}{2}&\\frac{1}{2}&\\frac{1}{2}&0\n",
    "&0&0\\\\\n",
    "\\frac{1}{2}&0&0&0&0&-\\frac{1}{2}\n",
    " &-\\frac{1}{2}&\\frac{1}{2}\\\\\n",
    "  0&-\\frac{1}{2}&-\\frac{1}{2}&\\frac{1}{2}&\\frac{1}{2}&0\n",
    "&0&0\\\\\n",
    "\\frac{\\sqrt{2}}{2}&0&0&0&0&0\n",
    "&0&-\\frac{\\sqrt{2}}{2}\\\\\n",
    "  0&-\\frac{\\sqrt{2}}{2}&\\frac{\\sqrt{2}}{2}&0&0&0\n",
    "&0&0\\\\\n",
    "  0&0&0&-\\frac{\\sqrt{2}}{2}&\\frac{\\sqrt{2}}{2}&0\n",
    "&0&0\\\\\n",
    "  0&0&0&0&0&-\\frac{\\sqrt{2}}{2}\n",
    "&\\frac{\\sqrt{2}}{2}&0&\\end{bmatrix}$$"
   ]
  },
  {
   "cell_type": "markdown",
   "metadata": {
    "slideshow": {
     "slide_type": "subslide"
    }
   },
   "source": [
    "$$\\mathcal{W}_{8}^{3} = \\begin{bmatrix} \\frac{\\sqrt{2}}{4}&\\frac{\\sqrt{2}}{4}&\\frac{\\sqrt{2}}{4}&\\frac{\\sqrt{2}}{4}&\\frac{\\sqrt{2}}{4}&\\frac{\\sqrt{2}}{4}\n",
    "&\\frac{\\sqrt{2}}{4}&\\frac{\\sqrt{2}}{4}\\\\\n",
    "\\frac{\\sqrt{2}}{4}&-\\frac{\\sqrt{2}}{4}&-\\frac{\\sqrt{2}}{4}&-\\frac{\\sqrt{2}}{4}&-\\frac{\\sqrt{2}}{4}&\\frac{\\sqrt{2}}{4}\n",
    "&\\frac{\\sqrt{2}}{4}&\\frac{\\sqrt{2}}{4}\\\\\n",
    "\\frac{1}{2}&0&0&0&0&-\\frac{1}{2}\n",
    " &-\\frac{1}{2}&\\frac{1}{2}\\\\\n",
    "  0&-\\frac{1}{2}&-\\frac{1}{2}&\\frac{1}{2}&\\frac{1}{2}&0\n",
    "&0&0\\\\\n",
    "\\frac{\\sqrt{2}}{2}&0&0&0&0&0\n",
    "&0&-\\frac{\\sqrt{2}}{2}\\\\\n",
    "  0&-\\frac{\\sqrt{2}}{2}&\\frac{\\sqrt{2}}{2}&0&0&0\n",
    "&0&0\\\\\n",
    "  0&0&0&-\\frac{\\sqrt{2}}{2}&\\frac{\\sqrt{2}}{2}&0\n",
    "&0&0\\\\\n",
    "  0&0&0&0&0&-\\frac{\\sqrt{2}}{2}\n",
    "&\\frac{\\sqrt{2}}{2}&0&\\end{bmatrix}$$"
   ]
  }
 ],
 "metadata": {
  "celltoolbar": "Slideshow",
  "kernelspec": {
   "display_name": "Python 3",
   "language": "python",
   "name": "python3"
  },
  "language_info": {
   "codemirror_mode": {
    "name": "ipython",
    "version": 3
   },
   "file_extension": ".py",
   "mimetype": "text/x-python",
   "name": "python",
   "nbconvert_exporter": "python",
   "pygments_lexer": "ipython3",
   "version": "3.7.11"
  }
 },
 "nbformat": 4,
 "nbformat_minor": 2
}
