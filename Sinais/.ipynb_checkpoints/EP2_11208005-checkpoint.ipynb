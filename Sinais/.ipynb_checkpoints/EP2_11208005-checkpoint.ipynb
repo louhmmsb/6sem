{
 "cells": [
  {
   "cell_type": "markdown",
   "metadata": {
    "slideshow": {
     "slide_type": "slide"
    }
   },
   "source": [
    "## Atividade Prática 2: Representações em Espaços Vetoriais\n",
    "\n",
    "### Nome: Lourenço Henrique Moinheiro Martins Sborz Bogo\n",
    "\n",
    "### N⁰ USP: 11208005\n",
    "\n",
    "Nessa tarefa exploraremos as transformações resultantes de mudar a base de representação de vetores em um espaço vetorial. "
   ]
  },
  {
   "cell_type": "markdown",
   "metadata": {
    "slideshow": {
     "slide_type": "slide"
    }
   },
   "source": [
    "### Revisão do conceito de base\n",
    "\n",
    "Uma *base* de um espaço vetorial $V$ é um conjunto $S$ em $V$ que tem as duas propriedades a seguir:\n",
    "\n",
    "- $S$ é um *conjunto gerador* para $V$, ou seja, $S$ permite representar qualquer $x\\in V$ através de uma equação\n",
    "$$x=\\sum_{i=0}^{K-1}a_iv_i$$\n",
    "onde $a_i$ são escalares e $v_i\\in S,\\ \\forall i$."
   ]
  },
  {
   "cell_type": "markdown",
   "metadata": {
    "slideshow": {
     "slide_type": "subslide"
    }
   },
   "source": [
    "- $S$ é *linearmente independente*, ou seja, não existem vetores em $S$ \"redundantes\"; em matematiquês isso equivale a dizer que qualquer sistema da forma\n",
    "$$\\sum_{i=0}^{K-1}a_iv_i=0$$\n",
    "com $v_i\\in S$ só admite a solução trivial $a_i=0,\\ \\forall i$.\n",
    "\n",
    "Se $S$ é uma base finita para $V$, o tamanho $N=|S|$ de $S$ é denominado **dimensão** de $V$ (e é possível provar que qualquer outra base de $V$ também possui exatamente $N$ elementos)."
   ]
  },
  {
   "cell_type": "markdown",
   "metadata": {
    "slideshow": {
     "slide_type": "subslide"
    }
   },
   "source": [
    "__Exemplo:__ a base canônica de $\\mathbb{R}^N$ ou $\\mathbb{C}^N$ é formada pelos vetores $e_i=\\left(0,\\ldots,0,\\overbrace{1}^{i},0,\\ldots,0\\right)$, que são geradores desses espaços (por construção), e linearmente independentes, pois $\\displaystyle\\sum_{i=0}^{K-1}a_ie_i=(a_0,a_1,\\ldots,a_{N-1})=(0,0,\\ldots,0)$ implica imediatamente $a_i=0,\\ \\forall i$.\n",
    "\n",
    "Uma propriedade importante dessa base é que ela é *ortogonal*, ou seja, que $(e_i,e_j)=0,\\ \\forall i\\neq j$."
   ]
  },
  {
   "cell_type": "markdown",
   "metadata": {
    "slideshow": {
     "slide_type": "slide"
    }
   },
   "source": [
    "### Bases e ortogonalidade\n",
    "\n",
    "Em um espaço $N$ dimensional, qualquer conjunto ortogonal de $N$ vetores não-nulos é necessariamente uma base. Isso decorre do fato de que se $S=\\{v_0,v_1,\\ldots,v_{N-1}\\}$ com $v_i\\neq 0,\\ \\forall i$ e $(v_i,v_j)=0,\\ \\forall v_i,v_j\\in S,\\ i\\neq j$, então o sistema\n",
    "$\\displaystyle\\sum_{i=0}^{K-1}a_iv_i=0$ pode ser resolvido fazendo produtos internos com cada $v_j$:\n",
    "$$\\displaystyle\\left(\\sum_{i=0}^{K-1}a_iv_i,v_j\\right) = \\sum_{i=0}^{K-1}a_i(v_i,v_j) = a_j(v_j,v_j) = 0,$$\n",
    "onde o somatório desaparece porque $(v_i,v_j)=0$ para todo $i\\neq j$, e como $(v_j,v_j)=\\|v_j\\|^2\\neq 0$ segue que $a_j=0$ (esse argumento vale $\\forall j$)."
   ]
  },
  {
   "cell_type": "markdown",
   "metadata": {
    "slideshow": {
     "slide_type": "slide"
    }
   },
   "source": [
    "### Mudanças de base\n",
    "\n",
    "Se $S$ é uma base qualquer para $V$, temos uma garantia de que é possível representar qualquer $x\\in V$ como $x=\\displaystyle\\sum_{i=0}^{K-1}a_iv_i$ (Eq. I). Uma pergunta razoável é: \"como encontrar os $a_i$'s?\"."
   ]
  },
  {
   "cell_type": "markdown",
   "metadata": {
    "slideshow": {
     "slide_type": "subslide"
    }
   },
   "source": [
    "Uma solução muito simples existe quando $S$ é uma base ortogonal: nesse caso, podemos proceder outra vez por eliminação, fazendo  produtos internos da Eq. I com cada $v_j$:\n",
    "$$(x,v_j) = \\left(\\sum_{i=0}^{K-1}a_iv_i,v_j\\right) = \\sum_{i=0}^{K-1}a_i(v_i,v_j) = a_j(v_j,v_j),$$\n",
    "de onde segue que\n",
    "$$a_j=\\frac{(x,v_j)}{(v_j,v_j)}$$\n",
    "(observe que como $S$ é base, $0\\not\\in S$ e portanto $(v_j,v_j)=\\|v_j\\|^2\\neq 0,\\ \\forall v_j\\in S$)."
   ]
  },
  {
   "cell_type": "markdown",
   "metadata": {
    "slideshow": {
     "slide_type": "slide"
    }
   },
   "source": [
    "#### Dependências dessa tarefa"
   ]
  },
  {
   "cell_type": "code",
   "execution_count": 1,
   "metadata": {
    "slideshow": {
     "slide_type": "fragment"
    }
   },
   "outputs": [],
   "source": [
    "import math as m\n",
    "import numpy as np"
   ]
  },
  {
   "cell_type": "markdown",
   "metadata": {
    "slideshow": {
     "slide_type": "slide"
    }
   },
   "source": [
    "#### Exercício 1: Considere o conjunto $S=\\{v_1,v_2,v_3\\}\\subset\\mathbb{R}^3$ com $v_1=(1,1,0)$, $v_2=(-1,1,1)$ e $v_3=(1,-1,2)$.\n",
    "\n",
    "(a) Escreva um código que verifique que $S$ é ortogonal com respeito ao produto interno canônico $\\displaystyle(x,y)=\\sum_{i=0}^2x_iy_i$. Como $|S|=3$, isso mostrará que $S$ é uma base para $\\mathbb{R}^3$."
   ]
  },
  {
   "cell_type": "code",
   "execution_count": 2,
   "metadata": {
    "slideshow": {
     "slide_type": "fragment"
    }
   },
   "outputs": [],
   "source": [
    "# Exercício 1(a)\n",
    "# Dicas: use sempre arrays do numpy com valores float,\n",
    "# por exemplo v = np.array([[1.,0.],[0.,1.]]) ou v = np.array([[1,0],[0,1]],dtype=float);\n",
    "# use a função np.inner(x,y) para computar (x,y),\n",
    "# e o comando \"assert np.linalg.norm(z)<1e-12\" para checar se ||z||=0.\n",
    "\n",
    "v1 = np.array([1, 1, 0], dtype=float)\n",
    "v2 = np.array([-1, 1, 1], dtype=float)\n",
    "v3 = np.array([1, -1, 2], dtype=float)\n",
    "\n",
    "S = [v1, v2, v3]\n",
    "\n",
    "inners = [np.inner(a, b) for idx, a in enumerate(S) for b in S[idx + 1:]]\n",
    "\n",
    "for i in inners:\n",
    "    assert np.linalg.norm(i)<1e-12"
   ]
  },
  {
   "cell_type": "markdown",
   "metadata": {
    "slideshow": {
     "slide_type": "subslide"
    }
   },
   "source": [
    "(b) Escreva um código que compute os coeficientes $a_1,a_2,a_3$ da representação de $x=(3,4,5)$ em relação à base $S$, e que verifique que a expressão $\\displaystyle x=\\sum_{k=1}^3a_kv_k=a_1v_1+a_2v_2+a_3v_3$ de fato é satisfeita."
   ]
  },
  {
   "cell_type": "code",
   "execution_count": 3,
   "metadata": {
    "slideshow": {
     "slide_type": "fragment"
    }
   },
   "outputs": [],
   "source": [
    "# Exercício 1(b)\n",
    "\n",
    "x = np.array([3, 4, 5], dtype=float)\n",
    "\n",
    "coef = [np.inner(x, i)/np.inner(i, i) for i in S]\n",
    "\n",
    "xcalc = np.sum([c*v for c,v in zip(coef, S)], 0)\n",
    "\n",
    "assert np.allclose(x, xcalc, 1e-12)"
   ]
  },
  {
   "cell_type": "markdown",
   "metadata": {
    "slideshow": {
     "slide_type": "subslide"
    }
   },
   "source": [
    "(c) Escreva um código que compute os vetores *normalizados* $S'=\\{v'_1,v'_2,v'_3\\}$ onde $v'_i=\\frac{v_i}{\\|v_i\\|}$, e depois compute os coeficientes $a'_1,a'_2,a'_3$ da representação de $x=(3,4,5)$ em relação à base $S'$, verificando que a expressão $x=a'_1v'_1+a'_2v'_2+a'_3v'_3$ de fato é satisfeita.\n",
    "\n",
    "(Obs: uma base ortogonal e normalizada é chamada de *base ortonormal*)."
   ]
  },
  {
   "cell_type": "code",
   "execution_count": 4,
   "metadata": {
    "scrolled": true,
    "slideshow": {
     "slide_type": "fragment"
    }
   },
   "outputs": [],
   "source": [
    "# Exercício 1(c)\n",
    "\n",
    "Sl = [i/np.linalg.norm(i) for i in S]\n",
    "\n",
    "x = np.array([3, 4, 5], dtype=float)\n",
    "\n",
    "coef = [np.inner(x, i) for i in Sl] # não precisa dividir pela norma pois ela é 1 (acabamos de normalizar a base)\n",
    "\n",
    "xcalc = np.sum([c*v for c,v in zip(coef, Sl)], 0)\n",
    "\n",
    "assert np.allclose(x, xcalc, 1e-12)"
   ]
  },
  {
   "cell_type": "markdown",
   "metadata": {
    "slideshow": {
     "slide_type": "subslide"
    }
   },
   "source": [
    "(d) Escreva um código que verifique que $\\|x\\|^2=\\|a'\\|^2$ (ou equivalentemente $x_1^2+x_2^2+x_3^2=a_1^2+a_2^2+a_3^2$).\n",
    "\n",
    "Esse resultado é conhecido como *Equação de Parseval*, que estabelece que as representações $(x_1,x_2,x_3)$ e $(a'_1,a'_2,a'_3)$ têm o mesmo \"tamanho\" (e assim a transformação $x\\mapsto a'$ é uma *isometria*)."
   ]
  },
  {
   "cell_type": "code",
   "execution_count": 5,
   "metadata": {
    "scrolled": true,
    "slideshow": {
     "slide_type": "fragment"
    }
   },
   "outputs": [],
   "source": [
    "# Exercício 1(d)\n",
    "\n",
    "assert abs(np.inner(x, x)-np.inner(coef, coef))<1e-12"
   ]
  },
  {
   "cell_type": "markdown",
   "metadata": {
    "slideshow": {
     "slide_type": "slide"
    }
   },
   "source": [
    "#### Exercício 2: Considere o conjunto $S=\\{E_0,E_1,E_2,E_3\\}$ onde $E_k\\in\\mathbb{C}^4$ é o vetor definido por $$(E_k)_n=e^{i2\\pi kn/4},\\ n=0,1,2,3.$$ Veremos que esse conjunto é ortogonal, e portanto $S$ é uma base de $\\mathbb{C}^4$.\n",
    "\n",
    "(a) Use a mesma estratégia do Exercício 1(a) para verificar computacionalmente que esses vetores são de fato ortogonais em relação ao produto interno canônico $\\displaystyle(x,y)=\\sum_{i=0}^3x_i\\overline{y_i}$."
   ]
  },
  {
   "cell_type": "code",
   "execution_count": 6,
   "metadata": {
    "slideshow": {
     "slide_type": "fragment"
    }
   },
   "outputs": [],
   "source": [
    "# Exercício 2(a)\n",
    "# Dica: compute os produtos internos (x,y) como np.inner(x,np.conjugate(y))\n",
    "\n",
    "S = [np.array([np.exp(1j*2*np.pi*k*n/4) for k in range(4)], dtype=complex) for n in range(4)]\n",
    "\n",
    "inners = [np.inner(a, np.conjugate(b)) for idx, a in enumerate(S) for b in S[idx + 1:]]\n",
    "\n",
    "for i in inners:\n",
    "    assert np.linalg.norm(i)<1e-12"
   ]
  },
  {
   "cell_type": "markdown",
   "metadata": {
    "slideshow": {
     "slide_type": "subslide"
    }
   },
   "source": [
    "(b) Use a mesma estratégia do Exercício 1(b) para escrever $v=(1,5,-2,3)$ como combinação linear dos elementos de $S$, ou seja, escreva um código para computar os coeficientes $a_k$ tais que $\\displaystyle v=\\sum_{k=0}^3a_kE_k$ e verificar automaticamente essa equação."
   ]
  },
  {
   "cell_type": "code",
   "execution_count": 12,
   "metadata": {
    "slideshow": {
     "slide_type": "fragment"
    }
   },
   "outputs": [],
   "source": [
    "# Exercício 2(b)\n",
    "# Dica: use somente vetores numpy complexos, fazendo v = np.array(...,dtype=complex)\n",
    "\n",
    "x = np.array([1, 5, -2, 3], dtype=complex)\n",
    "\n",
    "coef = [np.inner(x, np.conjugate(i))/np.inner(i, np.conjugate(i)) for i in S]\n",
    "\n",
    "xcalc = np.sum([c*v for c,v in zip(coef, S)], 0)\n",
    "\n",
    "assert np.allclose(x, xcalc, 1e-12)"
   ]
  },
  {
   "cell_type": "markdown",
   "metadata": {
    "slideshow": {
     "slide_type": "subslide"
    }
   },
   "source": [
    "(c) Use a mesma estratégia do Exercício 1(c) para normalizar os vetores $E_k$ (obtendo vetores $E'_k$ e uma base ortonormal $S'$) e use-os para escrever $v=(1,5,-2,3)$ como combinação linear dos elementos de $S'$, ou seja, escreva um código para computar os coeficientes $a'_k$ tais que $\\displaystyle v=\\sum_{k=0}^3a'_kE'_k$ e verificar automaticamente essa equação."
   ]
  },
  {
   "cell_type": "code",
   "execution_count": 14,
   "metadata": {
    "slideshow": {
     "slide_type": "fragment"
    }
   },
   "outputs": [
    {
     "name": "stdout",
     "output_type": "stream",
     "text": [
      "[(3.5+0j), (1.4999999999999998-1j), (-4.5-1.102182119232618e-15j), (1.5000000000000004+1.0000000000000004j)]\n"
     ]
    }
   ],
   "source": [
    "# Exercício 2(c)\n",
    "\n",
    "Sl = [i/np.linalg.norm(i) for i in S]\n",
    "\n",
    "x = np.array([1, 5, -2, 3], dtype=complex)\n",
    "\n",
    "coef = [np.inner(x, np.conjugate(i)) for i in Sl] # não precisa dividir pela norma pois ela é 1 (acabamos de normalizar a base)\n",
    "\n",
    "xcalc = np.sum([c*v for c,v in zip(coef, Sl)], 0)\n",
    "\n",
    "assert np.allclose(x, xcalc, 1e-12)"
   ]
  },
  {
   "cell_type": "markdown",
   "metadata": {
    "slideshow": {
     "slide_type": "subslide"
    }
   },
   "source": [
    "(d) Use a mesma estratégia do Exercício 1(d) para verificar que $\\|v\\|^2=\\|a'\\|^2$."
   ]
  },
  {
   "cell_type": "code",
   "execution_count": 9,
   "metadata": {
    "slideshow": {
     "slide_type": "fragment"
    }
   },
   "outputs": [
    {
     "ename": "AssertionError",
     "evalue": "",
     "output_type": "error",
     "traceback": [
      "\u001b[0;31m---------------------------------------------------------------------------\u001b[0m",
      "\u001b[0;31mAssertionError\u001b[0m                            Traceback (most recent call last)",
      "\u001b[0;32m<ipython-input-9-9108deb114ee>\u001b[0m in \u001b[0;36m<module>\u001b[0;34m\u001b[0m\n\u001b[1;32m      1\u001b[0m \u001b[0;31m# Exercício 2(d)\u001b[0m\u001b[0;34m\u001b[0m\u001b[0;34m\u001b[0m\u001b[0;34m\u001b[0m\u001b[0m\n\u001b[1;32m      2\u001b[0m \u001b[0;34m\u001b[0m\u001b[0m\n\u001b[0;32m----> 3\u001b[0;31m \u001b[0;32massert\u001b[0m \u001b[0mabs\u001b[0m\u001b[0;34m(\u001b[0m\u001b[0mnp\u001b[0m\u001b[0;34m.\u001b[0m\u001b[0minner\u001b[0m\u001b[0;34m(\u001b[0m\u001b[0mx\u001b[0m\u001b[0;34m,\u001b[0m \u001b[0mx\u001b[0m\u001b[0;34m)\u001b[0m\u001b[0;34m-\u001b[0m\u001b[0mnp\u001b[0m\u001b[0;34m.\u001b[0m\u001b[0minner\u001b[0m\u001b[0;34m(\u001b[0m\u001b[0mcoef\u001b[0m\u001b[0;34m,\u001b[0m \u001b[0mcoef\u001b[0m\u001b[0;34m)\u001b[0m\u001b[0;34m)\u001b[0m\u001b[0;34m<\u001b[0m\u001b[0;36m1e-12\u001b[0m\u001b[0;34m\u001b[0m\u001b[0;34m\u001b[0m\u001b[0m\n\u001b[0m",
      "\u001b[0;31mAssertionError\u001b[0m: "
     ]
    }
   ],
   "source": [
    "# Exercício 2(d)\n",
    "\n",
    "assert abs(np.inner(x, x)-np.inner(coef, coef))<1e-12"
   ]
  }
 ],
 "metadata": {
  "celltoolbar": "Slideshow",
  "kernelspec": {
   "display_name": "Python 3",
   "language": "python",
   "name": "python3"
  },
  "language_info": {
   "codemirror_mode": {
    "name": "ipython",
    "version": 3
   },
   "file_extension": ".py",
   "mimetype": "text/x-python",
   "name": "python",
   "nbconvert_exporter": "python",
   "pygments_lexer": "ipython3",
   "version": "3.7.11"
  }
 },
 "nbformat": 4,
 "nbformat_minor": 2
}
