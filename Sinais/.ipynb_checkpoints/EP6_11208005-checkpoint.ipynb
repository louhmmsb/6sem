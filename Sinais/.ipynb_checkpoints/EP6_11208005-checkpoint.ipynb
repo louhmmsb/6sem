{
 "cells": [
  {
   "cell_type": "markdown",
   "metadata": {
    "slideshow": {
     "slide_type": "slide"
    }
   },
   "source": [
    "# Atividade Prática 6\n",
    "\n",
    "## Análise dinâmica de sinais\n",
    "\n",
    "### Entrega: até 12/11/2021 às 23:59 no e-disciplinas\n",
    "\n",
    "#### Nome: Lourenço Henrique Moinheiro Martins Sborz Bogo N° USP: 11208005  (X) Grad ( ) Pós"
   ]
  },
  {
   "cell_type": "markdown",
   "metadata": {
    "slideshow": {
     "slide_type": "slide"
    }
   },
   "source": [
    "###  Sinais com conteúdo espectral variante no tempo\n",
    "\n",
    "Todos os sinais no mundo real possuem conteúdo espectral que varia com o tempo: eventos começam e terminam, componentes senoidais que estavam presentes num certo momento já não estão presentes em outro, ou estão presentes com intensidade menor.\n",
    "\n",
    "Em oposição a essa visão *dinâmica* do conteúdo dos sinais, a análise de Fourier em $\\mathbb{C}^N$ parte de coleções de formas básicas de onda $\\{E_k\\}$ com frequências fixas $k=0,\\ldots,N-1$, que para cada sinal $x$ analisado são associadas a coeficientes $X_k$ que são *estáticos*, visto que multiplicam \"globalmente\" o sinal temporal $E_k$."
   ]
  },
  {
   "cell_type": "markdown",
   "metadata": {
    "slideshow": {
     "slide_type": "subslide"
    }
   },
   "source": [
    "Uma maneira de tornar a análise de Fourier mais \"dinâmica\" consiste em analisar segmentos curtos de um sinal \"longo\" $x\\in\\mathbb{C}^N$, tomando-se $M\\ll N$ amostras de cada vez. Essa abordagem segmentada já apareceu no capítulo 3 e na atividade prática 4, tanto em sinais unidimensionais quanto bidimensionais (onde os segmentos eram chamados de \"blocos\" no esquema de compressão JPEG).\n",
    "\n",
    "Usando dois parâmetros, $M>0$ (duração em amostras) e $m>0$ (amostra inicial), podemos determinar um segmento do sinal $x$ como\n",
    "\n",
    "$$\\tilde{x} = \\left(x_{m},x_{m+1},\\ldots,x_{m+M-1}\\right)\\in\\mathbb{C}^M,$$\n",
    "\n",
    "e assim considerar sua DFT $\\tilde{X}\\in\\mathbb{C}^M$ para efeito de caracterização do conteúdo espectral de $x$ no recorte $[m,m+M)$."
   ]
  },
  {
   "cell_type": "markdown",
   "metadata": {
    "slideshow": {
     "slide_type": "subslide"
    }
   },
   "source": [
    "Lembre-se que o número de amostras $M$ determina tanto a duração do sinal (de $\\Delta_t=\\frac{M}{R}$ segundos se $R$ é a taxa de amostragem) quanto a resolução em frequência (pois os bins da DFT são separados por $\\Delta_f=\\frac{R}{M}$ Hz).\n",
    "\n",
    "Assim, numa análise segmentada, deseja-se usar segmentos de duração $\\Delta_t$ razoavelmente curta para evitar que o caráter \"estático\" das formas básicas de onda de Fourier seja um empecilho, e suficientemente longos a fim de garantir uma resolução em frequência $\\Delta_f$ adequada."
   ]
  },
  {
   "cell_type": "markdown",
   "metadata": {
    "slideshow": {
     "slide_type": "subslide"
    }
   },
   "source": [
    "Esses dois critérios antagônicos estão na origem de uma questão crucial em análise de sinais que é frequentemente chamada de *Princípio da Incerteza*, por uma alusão metafórica ao princípio de Heisenberg em Física Quântica: não é possível localizar de forma perfeita uma componente do sinal simultaneamente nos domínios temporal e espectral:\n",
    "\n",
    "- quanto melhor a localização temporal (menor $M$), maior a imprecisão espectral ($R/M$), e \n",
    "\n",
    "- quanto melhor a precisão espectral (menor $R/M$), pior a localização temporal (maisr $M$).\n",
    "\n",
    "Em outros termos, a precisão temporal $\\Delta_t=\\frac{M}{R}$ e a resolução espectral $\\Delta_f=\\frac{R}{M}$ satisfazem a condição invariante $\\Delta_t\\Delta_f=1$."
   ]
  },
  {
   "cell_type": "markdown",
   "metadata": {
    "slideshow": {
     "slide_type": "slide"
    }
   },
   "source": [
    "### Exemplo: varredura senoidal\n",
    "\n",
    "Na célula abaixo está construído um sinal, amostrado a $R=44100$ Hz, com uma varredura senoidal definida pela expressão\n",
    "\n",
    "$$x(t) = \\sin(2\\pi f(t)t),\\quad t\\in[0,D)$$\n",
    "\n",
    "onde $D=10$ segundos e $f(t)$ é uma função linear que vai de $0$ até $1000$ no intervalo $t\\in[0,D)$. O espectro de magnitude desse sinal aparece em seguida, evidenciando o problema da falta de localização da DFT: várias frequências compõem o sinal, mas não se sabe em que trecho do sinal elas aparecem ou desaparecem."
   ]
  },
  {
   "cell_type": "code",
   "execution_count": null,
   "metadata": {
    "slideshow": {
     "slide_type": "subslide"
    }
   },
   "outputs": [],
   "source": [
    "# importa dependências\n",
    "import math\n",
    "import numpy as np\n",
    "import matplotlib.pyplot as plt\n",
    "from scipy.fft import fft, ifft\n",
    "from IPython.display import Audio\n",
    "from ipywidgets import IntSlider, interactive, VBox, HBox"
   ]
  },
  {
   "cell_type": "code",
   "execution_count": null,
   "metadata": {
    "slideshow": {
     "slide_type": "subslide"
    }
   },
   "outputs": [],
   "source": [
    "R = 44100 # taxa de amostragem em Hz\n",
    "D = 10 # duração em segundos\n",
    "t = np.arange(0,D,1/R) # linha do tempo de 0 a D segundos\n",
    "f = t*100 # função f(t)\n",
    "x = np.sin(2*math.pi*f*t) # sinal x(t)\n",
    "X = fft(x) # espectro de x\n",
    "k0 = int(len(X)*2500/R) # índice correspondente a 2500 Hz\n",
    "plt.plot(np.arange(k0)*R/len(X),abs(X[0:k0]))\n",
    "plt.xlabel(\"frequência (Hz)\")\n",
    "plt.title(r\"espectro de magnitude de x entre 0 e 2500 Hz\")\n",
    "Audio(x.T, rate=R) # elemento interativo para ouvir a varredura senoidal"
   ]
  },
  {
   "cell_type": "markdown",
   "metadata": {
    "slideshow": {
     "slide_type": "subslide"
    }
   },
   "source": [
    "**Exercício 1 (cont.):**\n",
    "\n",
    "Adapte o código fornecido do exemplo interativo abaixo para representar o **espectro de magnitude**, sempre no intervalo de frequências de $0$ Hz a $2500$ Hz, do segmento do sinal $x$ definido pelos parâmetros interativos $m\\in\\{0,1000,2000,\\ldots\\}$ e $M\\in\\{100,200,300,\\ldots,10000\\}$. Em seguida, responda de forma sucinta as perguntas contidas na caixa de texto após o código.\n",
    "\n",
    "**Dica:** *Cuidado com o último segmento, para garantir que $m+M-1$ ainda é um índice válido. Um exemplo de espectro no formato esperado é <img src=\"http://www.ime.usp.br/~mqz/dsp/espectro.png\" alt=\"espectro\" width=\"400\"/>*"
   ]
  },
  {
   "cell_type": "code",
   "execution_count": null,
   "metadata": {
    "slideshow": {
     "slide_type": "subslide"
    }
   },
   "outputs": [],
   "source": [
    "def exemplo():\n",
    "    # plota o gráfico x(t) no intervalo [a,a+b] (índices de amostras)\n",
    "    def iplot(a,b):\n",
    "        plt.plot(t[a:a+b],x[a:a+b])\n",
    "        plt.xlabel(\"tempo (s)\")\n",
    "        plt.title(r\"x(t) no intervalo de índices [{},{}]\".format(a,a+b))\n",
    "        plt.show()\n",
    "\n",
    "    a = IntSlider(min=0, max=100000, step=1000, value=0, continuous_update=False, description=r'$a$')\n",
    "    b = IntSlider(min=1000, max=10000, step=1000, value=1000, continuous_update=False, description=r'$b$')\n",
    "    w = interactive(iplot, a=a, b=b)\n",
    "    display(HBox([w.children[2],VBox([w.children[0],w.children[1]])]))\n",
    "    w.update()\n",
    "\n",
    "exemplo()"
   ]
  },
  {
   "cell_type": "code",
   "execution_count": null,
   "metadata": {
    "slideshow": {
     "slide_type": "subslide"
    }
   },
   "outputs": [],
   "source": [
    "# Resposta do exercício 1\n",
    "def ex1():\n",
    "    def iplot(m,M):\n",
    "        M = M if len(x) > m+M else len(x) - m - 1 \n",
    "        x_cut = x[m:m+M]\n",
    "        f = fft(x_cut)\n",
    "        k0 = int(len(x_cut)*2500/R)\n",
    "        plt.plot(np.arange(k0)*R/len(x_cut),np.abs(f[0:k0]))\n",
    "        plt.xlabel(\"Frequência (hz)\")\n",
    "        plt.title(f\"Espectro de magnitude [{m}, {m+M})]\")\n",
    "        plt.show()\n",
    "\n",
    "    m = IntSlider(min=0, max=(R*D)-1, step=1000, value=111000, continuous_update=False, description=r'$m$')\n",
    "    M = IntSlider(min=100, max=10000, step=100, value=1000, continuous_update=False, description=r'$M$')\n",
    "    w = interactive(iplot, m=m, M=M)\n",
    "    display(HBox([w.children[2],VBox([w.children[0],w.children[1]])]))\n",
    "    w.update()\n",
    "    \n",
    "ex1()"
   ]
  },
  {
   "cell_type": "markdown",
   "metadata": {
    "slideshow": {
     "slide_type": "subslide"
    }
   },
   "source": [
    "#### Resposta do exercício 1 (cont)\n",
    "\n",
    "1. qual é o perfil típico de cada espectro?\n",
    "- Cada espectro tem o perfil de um pico em sua frequência.\n",
    "\n",
    "\n",
    "2. qual é o comportamento aparente em função de $m$, e em particular quais são as frequências mínima e máxima dos picos espectrais observados?\n",
    "- Quando mudamos o $m$, mudamos a parte do sinal que estamos analisando. A frequência mínima de um pico é algo muito próximo de 0 enquanto a máxima fica em torno de 20000. Como o sinal tem uma frequência crescente (ou seja, vai ficando mais agudo), aumentar o $m$ irá fazendo o pico deslocar para a direita.\n",
    "\n",
    "\n",
    "3. qual é o comportamento aparente em função de $M$ para um $m$ fixado?\n",
    "- Para um $m$ fixando, o M aumenta a precisão do programa. Basicamente o programa fica com um pico mais fino, indicando que temos uma certeza maior de qual a frequência que estamos observando.\n",
    "\n"
   ]
  },
  {
   "cell_type": "markdown",
   "metadata": {
    "slideshow": {
     "slide_type": "slide"
    }
   },
   "source": [
    "### Espectrogramas\n",
    "\n",
    "Uma forma conveniente de organizar os espectros de todos os segmentos $M$-dimensionais de um mesmo sinal $x\\in\\mathbb{C}^N$ é na forma de uma matriz $\\mathcal{X}\\in\\mathcal{M}_{M\\times L}(\\mathbb{C})$, onde $L$ é o número de segmentos, e a coluna $m$ contém a DFT de $\\tilde{x} = \\left(x_{m},x_{m+1},\\ldots,x_{m+M-1}\\right)\\in\\mathbb{C}^M$.\n",
    "\n",
    "Em particular, a matriz $|\\mathcal{X}|$ dos valores absolutos com as linhas dispostas ascendentemente de $0$ até $\\frac{M}{2}$ (componente de Nyquist) é chamada de *Espectrograma* de $x$. Nessa *imagem*, o tempo é lido na horizontal, a frequência na vertical, e os pixels $(k,m)$ de maior intensidade correspondem às componentes de frequência $k$ ativas no segmento $m$ do sinal."
   ]
  },
  {
   "cell_type": "markdown",
   "metadata": {
    "slideshow": {
     "slide_type": "subslide"
    }
   },
   "source": [
    "**Exercício 2:** adapte o código do gráfico interativo para construir um espectrograma do sinal $x$ em função de um parâmetro interativo $M\\in\\{100,200,300,\\ldots,10000\\}$, considerando as frequências entre $0$ e $2500$ Hz. Considere que os segmentos são justapostos, começando nas amostras $m=0,M,2M,3M,\\ldots$. Comente de forma sucinta na caixa de texto após o código suas observações em relação à visualização oferecida pelo espectrograma para a variação de frequência instantânea do sinal $x$, considerando distintos valores de $M$, e comparando suas observações com aquelas do exercício 1.\n",
    "\n",
    "**Dica:** *use a opção <tt>aspect='auto'</tt> da função <tt>plt.imshow</tt> para preservar um tamanho fixo do espectrograma para todos os valores de $M$. Um exemplo de espectrograma no formato esperado é <img src=\"http://www.ime.usp.br/~mqz/dsp/espectrograma.png\" alt=\"espectro\" width=\"400\"/>*"
   ]
  },
  {
   "cell_type": "code",
   "execution_count": null,
   "metadata": {
    "slideshow": {
     "slide_type": "subslide"
    }
   },
   "outputs": [],
   "source": [
    "# Resposta do Exercício 2\n",
    "def ex2():\n",
    "    def iplot(M):\n",
    "        # M = M if len(x) > m+M else len(x) - m - 1\n",
    "        L = len(x)//M\n",
    "        sg = np.zeros((M//2, L))\n",
    "        k0 = int(M*2500/R)\n",
    "        for i in range(0, L):\n",
    "            m = i*M\n",
    "            x_cut = x[m:m+M]\n",
    "            f = fft(x_cut)\n",
    "            sg[:, i] = np.abs(f[0:M//2])\n",
    "        plt.imshow(sg[0:k0, :], aspect='auto', origin='lower', extent=(0.0, 10.0, 0, 2500))\n",
    "        plt.show()\n",
    "\n",
    "    M = IntSlider(min=100, max=10000, step=100, value=1000, continuous_update=False, description=r'$M$')\n",
    "    w = interactive(iplot, M=M)\n",
    "    display(HBox([w.children[1],VBox([w.children[0]])]))\n",
    "    w.update()\n",
    "    \n",
    "    \n",
    "ex2()"
   ]
  },
  {
   "cell_type": "markdown",
   "metadata": {
    "slideshow": {
     "slide_type": "subslide"
    }
   },
   "source": [
    "#### Resposta do exercício 2 (cont)\n",
    "\n",
    "**Comentários e observações:**\n",
    "\n",
    "O espectrograma nos permite visualizar o gráfico que fizemos no anterior porém para todos os valores de $m$ simultaneamente para um $M$ fixo. Ou seja, fica mais fácil de verificar as alterações da frequência do sinal de acordo com o tempo. Também podemos perceber, que quando aumentamos o $M$, o gráfico fica mais nítido, indicando (igual no exercício anterior), que estamos mais certos da frequência sendo verificada."
   ]
  },
  {
   "cell_type": "markdown",
   "metadata": {
    "slideshow": {
     "slide_type": "slide"
    }
   },
   "source": [
    "### Frequência instantânea\n",
    "\n",
    "Afinal como se estima a frequência instantânea de um sinal senoidal de frequência variável?\n",
    "\n",
    "E porque a expressão \n",
    "\n",
    "$$x(t) = \\sin(2\\pi f(t)t),\\quad t\\in[0,D)$$\n",
    "\n",
    "com $f(t)$ indo de $0$ até $1000$ produz frequências instantâneas de até $2000$ Hz?"
   ]
  },
  {
   "cell_type": "markdown",
   "metadata": {
    "slideshow": {
     "slide_type": "subslide"
    }
   },
   "source": [
    "Uma maneira de conceituar a frequência instantânea de um sinal senoidal é considerá-lo como projeção de um movimento circular uniforme: por exemplo, a função complexa $g(t)=e^{i2\\pi ft}$ possui como projeção horizontal (eixo real) a função $g_1(t)=\\Re[g(t)]=\\cos(2\\pi ft)$ e como projeção vertical a função $g_2(t)=\\Im[g(t)]=\\sin(2\\pi ft)$.\n",
    "\n",
    "Nas duas projeções, a *velocidade de giro* é de $\\omega=2\\pi f$ radianos/segundo, ou $f=\\frac{\\omega}{2\\pi}$ Hz, que correspondem ao ângulo ou fase (em radianos ou ciclos) percorrido num intervalo de 1 segundo. "
   ]
  },
  {
   "cell_type": "markdown",
   "metadata": {
    "slideshow": {
     "slide_type": "subslide"
    }
   },
   "source": [
    "Em outras palavras, a frequência (angular) instantânea do sinal $x(t)$ corresponde à variação de fase\n",
    "$$\\tilde{\\omega} = \\frac{\\varphi_2-\\varphi_1}{t_2-t_1} = \\frac{2\\pi f(t_2)t_2-2\\pi f(t_1)t_1}{t_2-t_1}.$$\n",
    "para dois instantes sucessivos $t_1$ e $t_2$ bem próximos (no limite, estaríamos falando da *derivada* da fase instantânea).\n",
    "\n",
    "Num sinal digital amostrado a $R$ Hz, essa estimativa de frequência instantânea pode ser feita a cada amostra, considerando-se a expressão acima para dois instantes amostrais sucessivos $t_1$ e $t_2 = t_1+\\frac{1}{R}$.\n",
    "\n",
    "A estimativa $\\tilde{\\omega}$ estará em radianos/segundo, mas pode ser convertida facilmente para Hz usando a expressão $\\tilde{f} = \\frac{\\tilde{\\omega}}{2\\pi}$."
   ]
  },
  {
   "cell_type": "markdown",
   "metadata": {
    "slideshow": {
     "slide_type": "subslide"
    }
   },
   "source": [
    "**Exercício 3:** Escreva um código que calcule a frequência instantânea em Hz $\\tilde{f}(t)$ do sinal $x$ a partir da definição acima, e plote em um mesmo gráfico as funções $f(t)$ e $\\tilde{f}(t)$ no intervalo $t\\in[0,10)$. Comente após o código: seu gráfico corrobora as observações dos exercícios 1 e 2?"
   ]
  },
  {
   "cell_type": "code",
   "execution_count": null,
   "metadata": {
    "slideshow": {
     "slide_type": "subslide"
    }
   },
   "outputs": [],
   "source": [
    "# Resposta do exercício 3\n",
    "omega_til = lambda t : 2*np.pi*R*(100*(t+1/R)*(t+1/R) - 100*t*t)\n",
    "t = np.arange(0, 10, 1/R)\n",
    "\n",
    "f = 100*t\n",
    "f_til = omega_til(t)/(2*np.pi)\n",
    "\n",
    "plt.plot(t, f, label='Frequência original')\n",
    "plt.plot(t, f_til, label='Frequência instantânea')\n",
    "plt.legend()\n",
    "plt.show()"
   ]
  },
  {
   "cell_type": "markdown",
   "metadata": {
    "slideshow": {
     "slide_type": "subslide"
    }
   },
   "source": [
    "**Resposta do exercício 3 (cont)**\n",
    "\n",
    "**Comente:** Seu gráfico corrobora as observações dos exercícios 1 e 2?\n",
    "\n",
    "Sim, corrobora. Nos exercícios anteriores, quanto menor o $M$, mais próximo estávamos de pegar a frequência instantânea. Por exemplo: no exercício 1, se colocarmos o $M$ no mínimo e o $m$ no máximo, podemos lembrar que conseguíamos um pico no 2000. O gráfico acima mostra que a frequência instantânea no tempo final é 2000 também. "
   ]
  }
 ],
 "metadata": {
  "celltoolbar": "Slideshow",
  "kernelspec": {
   "display_name": "Python 3",
   "language": "python",
   "name": "python3"
  },
  "language_info": {
   "codemirror_mode": {
    "name": "ipython",
    "version": 3
   },
   "file_extension": ".py",
   "mimetype": "text/x-python",
   "name": "python",
   "nbconvert_exporter": "python",
   "pygments_lexer": "ipython3",
   "version": "3.7.11"
  }
 },
 "nbformat": 4,
 "nbformat_minor": 2
}
