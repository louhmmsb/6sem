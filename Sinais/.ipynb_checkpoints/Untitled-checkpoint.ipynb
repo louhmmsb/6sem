{
 "cells": [
  {
   "cell_type": "code",
   "execution_count": null,
   "id": "797bc994",
   "metadata": {},
   "outputs": [],
   "source": [
    "import numpy as np\n",
    "import matplotlib.pyplot as plt"
   ]
  },
  {
   "cell_type": "code",
   "execution_count": null,
   "id": "9e532f65",
   "metadata": {},
   "outputs": [],
   "source": [
    "C = 1\n",
    "alpha = 5\n",
    "N = 1000\n",
    "m = 100\n",
    "M = 49\n",
    "\n",
    "phi = lambda t : C*np.exp(-alpha*t**2)\n",
    "\n",
    "num = lambda j : j - (m + (M-1)/2)\n",
    "den = M/2\n",
    "\n",
    "w = np.array([phi(num(j)/den) for j in range (m, m+M)])\n",
    "\n",
    "t = np.linspace(-500, 500, M)\n",
    "\n",
    "W = np.fft.fftshift(np.abs(np.fft.fft(w)))\n",
    "\n",
    "fig, axs = plt.subplots(1, 2, figsize=(15, 5))\n",
    "axs[0].plot(t, w)\n",
    "axs[1].plot(t, W)\n",
    "plt.show()"
   ]
  },
  {
   "cell_type": "code",
   "execution_count": null,
   "id": "b5221ecf",
   "metadata": {},
   "outputs": [],
   "source": [
    "alpha = 10\n",
    "\n",
    "w = np.array([phi(num(j)/den) for j in range (m, m+M)])\n",
    "\n",
    "t = np.linspace(-500, 500, M)\n",
    "\n",
    "W = np.fft.fftshift(np.abs(np.fft.fft(w)))\n",
    "\n",
    "fig, axs = plt.subplots(1, 2, figsize=(15, 5))\n",
    "axs[0].plot(t, w)\n",
    "axs[1].plot(t, W)\n",
    "plt.show()"
   ]
  },
  {
   "cell_type": "code",
   "execution_count": null,
   "id": "e747ca98",
   "metadata": {},
   "outputs": [],
   "source": [
    "M = 100\n",
    "\n",
    "phi = lambda t : 0.54 - 0.46*np.cos(2*np.pi*t)\n",
    "\n",
    "ins = lambda j : (j - m)/M\n",
    "\n",
    "w = np.array([phi(ins(j)) for j in range(m, m+M+1)])\n",
    "\n",
    "t = np.linspace(-500, 500, M+1)\n",
    "\n",
    "W = np.fft.fftshift(np.abs(np.fft.fft(w)))\n",
    "\n",
    "fig, axs = plt.subplots(1, 2, figsize=(15, 5))\n",
    "axs[0].plot(t, w)\n",
    "axs[1].plot(t, W)\n",
    "plt.show()"
   ]
  },
  {
   "cell_type": "markdown",
   "id": "7430bcea",
   "metadata": {},
   "source": [
    "Podemos perceber que ao aumentar o M, a janela não muda muito, apenas fica mais precisa pois temos mais pontos, porém a sua DFT fica muito mais fina, indicando que temos mais certeza de qual frequência estamos observando, o que é completamente coerente, já que quanto mais pontos usamos, maior é a quantidade de informação que temos para descobrir o valor da freqência."
   ]
  },
  {
   "cell_type": "markdown",
   "id": "b170ea93",
   "metadata": {},
   "source": [
    "## Exercício 5.8\n",
    "No outro arquivo que enviei, calculei a derivada de $w_0$ em função de $t_0$, e se plotarmos essa derivada, os pontos onde ela resulta em 0, são os pontos de inflexão da função $w_0$."
   ]
  },
  {
   "cell_type": "code",
   "execution_count": null,
   "id": "483e4ad9",
   "metadata": {},
   "outputs": [],
   "source": [
    "t = np.linspace(0, 1, 200)\n",
    "dw0 = np.vectorize(lambda t0 : np.sin(2*np.pi*t0) + np.pi*np.cos(2*np.pi*t0)*t0) ## Não coloquei o -200*np.pi que multiplica tudo, pois ele não é relevante para achar os pontos de máximo\n",
    "\n",
    "plt.plot(t, dw0(t))\n",
    "plt.plot(t, [0 for i in range(200)])\n",
    "plt.show()"
   ]
  },
  {
   "cell_type": "markdown",
   "id": "05378889",
   "metadata": {},
   "source": [
    "Temos 3 pontos de inflexão no intervalo, 0, um valor próximo de 0.4 e um valor próximo de 0.8. Se colocarmos esses valores na função original, podemos perceber que o 0 é apenas um ponto de inflexão, o valor próximo de 0.4 é o ponto de mínimo e o valor próximo de 0.8 é o ponto de máximo. Podemos também plotar $w_0$ para verificar que isso faz sentido:"
   ]
  },
  {
   "cell_type": "code",
   "execution_count": null,
   "id": "b393fc3e",
   "metadata": {},
   "outputs": [],
   "source": [
    "t = np.linspace(0, 1, 200)\n",
    "w = np.vectorize(lambda t0 : 150 + 50*np.cos(2*np.pi*t0))\n",
    "dw = np.vectorize(lambda t0 : -100*np.sin(2*np.pi*t0)*np.pi)\n",
    "w0 = np.vectorize(lambda t0 : w(t0)+dw(t0)*t0)\n",
    "plt.plot(t, w0(t))\n",
    "plt.show()"
   ]
  },
  {
   "cell_type": "markdown",
   "id": "63efad28",
   "metadata": {},
   "source": [
    "Fontes:\n",
    "- Produto de duas matrizes ortogonais são ortogonais: http://en.wikipedia.org/wiki/Orthogonal_matrix (seção Properties, subseção Group Properties)\n",
    "- Block matrices: https://en.wikipedia.org/wiki/Block_matrix"
   ]
  }
 ],
 "metadata": {
  "kernelspec": {
   "display_name": "Python 3",
   "language": "python",
   "name": "python3"
  },
  "language_info": {
   "codemirror_mode": {
    "name": "ipython",
    "version": 3
   },
   "file_extension": ".py",
   "mimetype": "text/x-python",
   "name": "python",
   "nbconvert_exporter": "python",
   "pygments_lexer": "ipython3",
   "version": "3.7.11"
  }
 },
 "nbformat": 4,
 "nbformat_minor": 5
}
