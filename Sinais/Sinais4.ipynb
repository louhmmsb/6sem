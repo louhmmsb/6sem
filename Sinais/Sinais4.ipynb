{
 "cells": [
  {
   "cell_type": "code",
   "execution_count": null,
   "id": "3e51f32d",
   "metadata": {},
   "outputs": [],
   "source": [
    "import numpy as np\n",
    "import matplotlib.pyplot as plt\n",
    "import scipy.linalg as lin\n",
    "np.set_printoptions(precision = 3, suppress = True)"
   ]
  },
  {
   "cell_type": "markdown",
   "id": "a7b763ab",
   "metadata": {},
   "source": [
    "## Exercício 4.11"
   ]
  },
  {
   "cell_type": "code",
   "execution_count": null,
   "id": "1a008f47",
   "metadata": {},
   "outputs": [],
   "source": [
    "f = np.vectorize(lambda t : np.sin(10*np.pi*t) if 0 <= t < 1/2 else 1/2)\n",
    "v = lambda M : np.vectorize(lambda n : 1/M if 0 <= n < M else 0)\n",
    "fft  = lambda s : np.fft.fft(s)\n",
    "realifft = lambda s : np.real(np.fft.ifft(s))\n",
    "sample_space = np.linspace(0, 1, num=256)\n",
    "f_sample = f(sample_space)\n",
    "\n",
    "Ms = [256 ,100, 50, 20, 10, 5, 1]\n",
    "t = np.linspace(0, 1, 256)\n",
    "\n",
    "fig, ax = plt.subplots(len(Ms),1,figsize=(10, 20))\n",
    "\n",
    "for i, M in enumerate(Ms):\n",
    "    ax[i].plot(t, f_sample, label = 'Sinal Original')\n",
    "    ax[i].plot(t, realifft(fft(v(M)(np.arange(0, 256))) * fft(f_sample)), label = 'Convolução')\n",
    "    ax[i].set_title(f'M = {M}')\n",
    "    ax[i].legend()\n"
   ]
  },
  {
   "cell_type": "markdown",
   "id": "5b8f306d",
   "metadata": {},
   "source": [
    "O que a nossa convolução está fazendo é pegar um ponto do sinal e \"diluir\" ele nos instantes de tempo seguintes, ou seja, é como se o valor de sua frequência fosse \"espalhada\" pelos instantes de tempo que vem depois (ou antes, o ponto esteja no fim do vetor e ele loope de volta para o começo). Esse efeito leva à distorção observada. É interessante observar que quando $M = 256$, o gráfico vira uma reta no ponto médio do sinal, pois diluímos todos os pontos do sinais no intervalo de tempo inteiro."
   ]
  },
  {
   "cell_type": "markdown",
   "id": "ec9cbce2",
   "metadata": {},
   "source": [
    "## Questão 4.13"
   ]
  },
  {
   "cell_type": "code",
   "execution_count": null,
   "id": "816452cf",
   "metadata": {},
   "outputs": [],
   "source": [
    "#h = np.array([np.pi, np.e, 1j, np.exp(np.pi*1j)], dtype='complex')\n",
    "h = np.array([1, 2, 3, 4], dtype='complex')\n",
    "Mh = lin.circulant(h)\n",
    "eigenvalues, eigenvectors = np.linalg.eig(Mh)\n",
    "\n",
    "# Mostrando que a DFT de h contém os autovalores\n",
    "assert np.linalg.norm(np.sort_complex(np.round(eigenvalues, 6)) - np.sort_complex(np.round(np.fft.fft(h), 6))) < 1e-7\n",
    "\n",
    "# Mostrando que os autovetores são formas de onda básicas\n",
    "Enk = np.array([(lambda v : v/np.linalg.norm(v))(np.array([np.exp(2*np.pi*1j*k*m/4) for m in range(0, 4)])) for k in range(0, 4)])\n",
    "\n",
    "eigenvalues_experiment = []\n",
    "\n",
    "for i in range(4):\n",
    "    print(f'Eigenvector {i} = {Enk[i]}')\n",
    "    prod = Mh@Enk[i]\n",
    "    print(f'Mh * Eigenvector {i} = {prod}')\n",
    "    div = prod/Enk[i]\n",
    "    print(f'Divisão termo a termo do produto anterior pelo eigenvector {i} = {div}')\n",
    "    # Agora vamos verificar que todos os termos do vetor anterior são iguais\n",
    "    print(np.all(np.round(div) == np.round(div[0])))\n",
    "    eigenvalues_experiment.append(div[0])\n",
    "    print()\n",
    "    \n",
    "print(np.sort(np.round(eigenvalues)))\n",
    "print(np.sort(np.round(np.array(eigenvalues_experiment))))\n",
    "\n"
   ]
  },
  {
   "cell_type": "markdown",
   "id": "b91929bf",
   "metadata": {},
   "source": [
    "Eu acabo de mostrar que fazer o produto matricial entre a matriz circulante e as ondas básicas, é equivalente a multiplicar esses vetores por um escalar. Isso prova que esses vetores são eigenvectors por definição. Ainda mostrei (por consistência) que esses escalares são os mesmos eigenvalues que o numpy encontrou."
   ]
  },
  {
   "cell_type": "markdown",
   "id": "78fe531e",
   "metadata": {},
   "source": [
    "# Questão 4.15\n",
    "\n",
    "Simplificando a expressão (fiz no outro arquivo que enviei), ficamos com $e^{-\\pi i \\frac{k}{N}}i\\sin{\\frac{\\pi k}{N}}$. Ao tirar a norma disso, ficamos apenas com $|\\sin{\\frac{\\pi k}{N}}|$, pois o resto está no círculo unitário, ou seja, é apenas uma rotação que não escala o valor do resto."
   ]
  },
  {
   "cell_type": "code",
   "execution_count": null,
   "id": "6a9c3dcb",
   "metadata": {},
   "outputs": [],
   "source": [
    "N = 4269\n",
    "q = np.arange(-N/2+1,+N/2+1)\n",
    "Hq = np.sin(np.pi*q/N)*np.exp(-1j*np.pi*q/N)*1j\n",
    "\n",
    "fig = plt.figure(figsize=(15,5))\n",
    "ax = fig.add_subplot(1, 3, 1)\n",
    "ax.plot(q,np.abs(Hq))\n",
    "ax.set_title(r\"resposta em magnitude $|H_q| = \\sin\\left(\\frac{\\pi q}{N}\\right)$\")\n",
    "\n",
    "ax = fig.add_subplot(1, 3, 2)\n",
    "ax.plot(q,np.angle(Hq))\n",
    "ax.set_title(r\"resposta em fase $\\measuredangle H_q = -i\\pi q/N$\")\n",
    "ax = fig.add_subplot(1, 3, 3, projection='3d')\n",
    "ax.plot3D(q,Hq.real,Hq.imag)\n",
    "ax.set_title(r\"resposta complexa $H_q$\")\n",
    "\n",
    "plt.show()"
   ]
  },
  {
   "cell_type": "markdown",
   "id": "a0ce1f25",
   "metadata": {},
   "source": [
    "Isso é um filtro \"passa-altas\", pois quanto maior a frequência (em módulo), menos atenuada ela é, ou seja, ela permite que as frequências mais altas (em módulo) \"passem\" com menos atenuação. Isso fica bem claro no gráfico de amplitude que a célula anterior gera."
   ]
  }
 ],
 "metadata": {
  "kernelspec": {
   "display_name": "Python 3",
   "language": "python",
   "name": "python3"
  },
  "language_info": {
   "codemirror_mode": {
    "name": "ipython",
    "version": 3
   },
   "file_extension": ".py",
   "mimetype": "text/x-python",
   "name": "python",
   "nbconvert_exporter": "python",
   "pygments_lexer": "ipython3",
   "version": "3.7.11"
  }
 },
 "nbformat": 4,
 "nbformat_minor": 5
}
