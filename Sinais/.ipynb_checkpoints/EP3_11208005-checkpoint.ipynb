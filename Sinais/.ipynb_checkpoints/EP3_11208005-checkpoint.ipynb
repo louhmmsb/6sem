{
 "cells": [
  {
   "cell_type": "markdown",
   "metadata": {
    "slideshow": {
     "slide_type": "slide"
    }
   },
   "source": [
    "# Atividade Prática 3\n",
    "\n",
    "## Transformada de Fourier para imagens\n",
    "\n",
    "### Entrega: até 24/09/2021 às 23:59 no e-disciplinas\n",
    "\n",
    "#### Nome: Lourenço Henrique Moinheiro Martins Sborz Bogo N° USP: 11208005 (X) Grad ( ) Pós"
   ]
  },
  {
   "cell_type": "markdown",
   "metadata": {
    "slideshow": {
     "slide_type": "slide"
    }
   },
   "source": [
    "Como visto no Capítulo 1 (Exemplo 1.24), a transformada de Fourier de uma imagem $A\\in\\mathcal{M}_{m,n}(\\mathbb{C})$ corresponde aos coeficientes\n",
    "\n",
    "$$\\hat{A}_{k,l} = \\left(A,\\mathcal{E}_{k,l}\\right) = \\sum_{r=0}^{m-1}\\sum_{s=0}^{n-1}A_{r,s}e^{-i2\\pi(kr/m+ls/n)},\\quad k=0,\\ldots,m-1,\\quad l=0,\\ldots,n-1.$$\n",
    "\n",
    "Especificamente, definimos $\\hat{A}=DFT(A)\\in\\mathcal{M}_{m,n}(\\mathbb{C})$ como a matriz cujas componentes $\\hat{A}_{k,l}$ são definidas pela expressão acima.\n",
    "\n",
    "Observe que nessa definição, $k$ e $l$ são índices associados às *frequências de varredura por linhas e por colunas*, respectivamente, enquanto $r$ e $s$ são os índices de linhas e colunas dentro das matrizes $A$ e $\\mathcal{E}_{k,l}$."
   ]
  },
  {
   "cell_type": "markdown",
   "metadata": {
    "slideshow": {
     "slide_type": "subslide"
    }
   },
   "source": [
    "Os coeficientes $\\hat{A}_{k,l}$ aparecem na mudança de base da representação usual (base canônica) para a base das formas básicas de onda bidimensionais dadas pelas matrizes $\\mathcal{E}_{k,l}\\in\\mathcal{M}_{m,n}(\\mathbb{C})$, definidas como\n",
    "\n",
    "$$\\left(\\mathcal{E}_{k,l}\\right)_{r,s} = e^{i2\\pi(kr/m+ls/n)},\\quad r=0,\\ldots,m-1,\\quad s=0,\\ldots,n-1.$$\n",
    "\n",
    "Nessa base, escrevemos $A=\\displaystyle\\sum_{k=0}^{m-1}\\sum_{l=0}^{n-1}c_{k,l}\\mathcal{E}_{k,l}$, usando os coeficientes (normalizados) $c_{k,l}=\\frac{\\left(A,\\mathcal{E}_{k,l}\\right)}{mn}$ (teorema 1.3)."
   ]
  },
  {
   "cell_type": "markdown",
   "metadata": {
    "slideshow": {
     "slide_type": "slide"
    }
   },
   "source": [
    "---\n",
    "\n",
    "**Exercício 1a:** Adapte o código da implementação \"ingênua\" da DFT unidimensional, fornecido abaixo, para produzir uma implementação análoga da DFT bidimensional."
   ]
  },
  {
   "cell_type": "code",
   "execution_count": null,
   "metadata": {
    "slideshow": {
     "slide_type": "fragment"
    }
   },
   "outputs": [],
   "source": [
    "import math as m\n",
    "import numpy as np"
   ]
  },
  {
   "cell_type": "code",
   "execution_count": null,
   "metadata": {
    "slideshow": {
     "slide_type": "fragment"
    }
   },
   "outputs": [],
   "source": [
    "def DFTingenua(x):\n",
    "    N = len(x)\n",
    "    n = np.array(range(N))\n",
    "    X = np.ndarray(N, dtype=complex)\n",
    "    for k in range(N):\n",
    "        # Calcula a expressão X[k] = Σ x[n]*e^(i2πkn/N)\n",
    "        X[k] = sum(x*np.exp(-1j*2*m.pi*k*n/N))\n",
    "    return X"
   ]
  },
  {
   "cell_type": "code",
   "execution_count": null,
   "metadata": {
    "slideshow": {
     "slide_type": "subslide"
    }
   },
   "outputs": [],
   "source": [
    "# Resposta do exercício 1a\n",
    "def DFT2ingenua(A):\n",
    "    # seu código aqui...\n",
    "    m,n = np.shape(A)\n",
    "    X = np.zeros(((m,n)), dtype=complex)\n",
    "    for k in range(m):\n",
    "        for l in range(n):\n",
    "            X[k][l] = np.sum([[A[r][s]*np.exp(-1j*2*np.pi*(k*r/m+l*s/n)) for r in range(m)] for s in range(n)])\n",
    "    return X"
   ]
  },
  {
   "cell_type": "markdown",
   "metadata": {
    "slideshow": {
     "slide_type": "slide"
    }
   },
   "source": [
    "### Testes automatizados\n",
    "\n",
    "É possível testar automaticamente o código da DFT comparando as saídas da função implementada com valores pré-calculados a partir da definição. Por exemplo, na DFT 1D pode-se verificar que os vetores $e_r=(0,\\ldots,0,\\overbrace{1}^{i=r},0,\\ldots,0)$ da base canônica possuem como DFT os vetores\n",
    "\n",
    "$$DFT(e_r) = \\overline{E_r} = (e^0,e^{-i2\\pi r/N},e^{-i2\\pi 2r/N},\\ldots,e^{-i2\\pi (N-1)r/N}).$$\n",
    "\n",
    "Esses casos de teste são utilizados na função abaixo. Para cada $e_r$ ela constrói a DFT teórica e a compara com o resultado da chamada da função DFTingenua. Observe que o código só imprime a frase no final porque todas as comparações (asserts) estão muito próximas do esperado (o código usa $\\varepsilon=10^{-8}$ como tolerância nas comparações)."
   ]
  },
  {
   "cell_type": "code",
   "execution_count": null,
   "metadata": {
    "slideshow": {
     "slide_type": "subslide"
    }
   },
   "outputs": [],
   "source": [
    "# teste automatizado:\n",
    "# para cada vetor e_r da base canônica, computa sua DFT\n",
    "# e compara com a expressão teórica DFT(e_r)=\\overline{E_r} (E_r conjugado)\n",
    "def testeDFTingenua(N):\n",
    "    for r in range(N):\n",
    "        e_r = np.zeros(N); e_r[r] = 1\n",
    "        DFTe_r = [ np.exp(-1j*2*m.pi*r*k/N) for k in range(N) ]\n",
    "        assert np.linalg.norm(DFTingenua(e_r)-DFTe_r) < 1e-8\n",
    "\n",
    "for N in [2**b for b in range(10)]:\n",
    "    testeDFTingenua(N)\n",
    "    print(f\"A função DFTingenua passou no teste com N={N}!\")"
   ]
  },
  {
   "cell_type": "markdown",
   "metadata": {
    "slideshow": {
     "slide_type": "slide"
    }
   },
   "source": [
    "---\n",
    "\n",
    "**Exercício 1b:** Adapte o código do teste automatizado da DFT unidimensional fornecido acima para testar sua implementação da DFT bidimensional. Seu teste deve percorrer todas as matrizes da base canônica de $\\mathcal{M}_{m,n}(\\mathbb{C})$ e comparar o resultado de sua função DFT2ingenua com a DFT prevista pela definição. Você deve construir essas DFTs previstas a partir de suas expressões teóricas: dada uma matriz da base canônica $e_{r,s}\\in\\mathcal{M}_{m,n}(\\mathbb{C})$ definida por $(e_{r,s})_{i,j} = 1$ se $(r,s)=(i,j)$ e $(e_{r,s})_{i,j} = 0$ caso contrário, sua DFT será a matriz $\\hat{e}_{r,s}\\in\\mathcal{M}_{m,n}(\\mathbb{C})$ cujas componentes são\n",
    "\n",
    "$$\\left(\\hat{e}_{r,s}\\right)_{k,l} = e^{-i2\\pi(kr/m+ls/n)},\\quad k=0,\\ldots,m-1,\\quad l=0,\\ldots,n-1.$$"
   ]
  },
  {
   "cell_type": "code",
   "execution_count": null,
   "metadata": {
    "slideshow": {
     "slide_type": "subslide"
    }
   },
   "outputs": [],
   "source": [
    "# Resposta do exercício 1b\n",
    "def testeDFT2ingenua(M,N):\n",
    "    # seu código aqui...\n",
    "    for k in range(M):\n",
    "        for l in range(N):\n",
    "            e_kl = np.zeros((M,N), dtype=complex)\n",
    "            e_kl[k][l] = 1\n",
    "            DFTe_kl = [[np.exp(-1j*2*np.pi*(k*r/M+l*s/N)) for s in range(N)] for r in range(M)]\n",
    "            assert np.linalg.norm(DFT2ingenua(e_kl)-DFTe_kl) < 1e-8\n",
    "            \n",
    "            \n",
    "    \n",
    "for M,N in [(2**b,2**c) for (b,c) in np.ndindex((5,5))]:\n",
    "    testeDFT2ingenua(M,N)\n",
    "    print(f\"A função DFT2ingenua passou no teste com MxN={M}x{N}!\")"
   ]
  },
  {
   "cell_type": "markdown",
   "metadata": {
    "slideshow": {
     "slide_type": "slide"
    }
   },
   "source": [
    "## DFT 2D como DFT nas linhas e nas colunas de A\n",
    "\n",
    "Uma relação muito importante entre a DFT unidimensional e a DFT bidimensional pode ser expressa da seguinte forma: se $\\hat{A} = DFT(A)$, onde $A,\\hat{A}\\in\\mathcal{M}_{m,n}(\\mathbb{C})$, então\n",
    "\n",
    "- $\\hat{A}$ pode ser obtida aplicando-se DFTs unidimensionais nas **colunas** de A (obtendo-se uma matriz $B$) e finalmente aplicando-se DFTs unidimensionais nas **linhas** de $B$;"
   ]
  },
  {
   "cell_type": "markdown",
   "metadata": {
    "slideshow": {
     "slide_type": "subslide"
    }
   },
   "source": [
    "ou, alternativamente\n",
    "\n",
    "- $\\hat{A}$ pode ser obtida aplicando-se DFTs unidimensionais nas **linhas** de A (obtendo-se uma matriz $C$) e finalmente aplicando-se DFTs unidimensionais nas **colunas** de $C$.\n",
    "\n",
    "A consequência algorítmica imediata dessa relação é que podemos **implementar** a DFT 2D alternativamente utilizando **chamadas a uma função DFT 1D** previamente conhecida. Isso é particularmente interessante quando a implementação 1D é eficiente, como no caso da **Transformada Rápida de Fourier (FFT)**."
   ]
  },
  {
   "cell_type": "markdown",
   "metadata": {
    "slideshow": {
     "slide_type": "slide"
    }
   },
   "source": [
    "---\n",
    "\n",
    "**Exercício 2a:** Use a implementação da FFT unidimensional abaixo para construir uma implementação da FFT bidimensional usando uma das duas formas alternativas descritas acima."
   ]
  },
  {
   "cell_type": "code",
   "execution_count": null,
   "metadata": {
    "slideshow": {
     "slide_type": "fragment"
    }
   },
   "outputs": [],
   "source": [
    "def FFT(x):\n",
    "    N = len(x);\n",
    "    # testa se N é potência de 2\n",
    "    if (N & (N-1) != 0):\n",
    "        raise ValueError('Essa FFT só funciona para N potência de 2')\n",
    "    if N<=1: return x # base da recursão: N=0,1\n",
    "    X = np.ndarray(N, dtype=complex)\n",
    "    Xpar = FFT(x[0:N:2])\n",
    "    Ximpar = FFT(x[1:N:2])\n",
    "    for k in range(N):\n",
    "        X[k] = Xpar[k%(N//2)]+np.exp(-1j*2*m.pi*k/N)*Ximpar[k%(N//2)]\n",
    "    return X"
   ]
  },
  {
   "cell_type": "code",
   "execution_count": null,
   "metadata": {
    "slideshow": {
     "slide_type": "subslide"
    }
   },
   "outputs": [],
   "source": [
    "# Resposta do exercício 2a\n",
    "def FFT2(A):\n",
    "    m,n = np.shape(A)\n",
    "    B = np.array([FFT(A[i,:]) for i in range(m)], dtype=complex)\n",
    "    C = np.array([FFT(B[:,i]) for i in range(n)], dtype=complex)\n",
    "    \n",
    "    Ahat = C.T\n",
    "    \n",
    "    return Ahat"
   ]
  },
  {
   "cell_type": "markdown",
   "metadata": {
    "slideshow": {
     "slide_type": "slide"
    }
   },
   "source": [
    "---\n",
    "\n",
    "**Exercício 2b:** Escreva uma função para testar sua implementação da FFT bidimensional, comparando os resultados dessa função com a sua implementação DFT2ingenua."
   ]
  },
  {
   "cell_type": "code",
   "execution_count": null,
   "metadata": {
    "slideshow": {
     "slide_type": "subslide"
    }
   },
   "outputs": [],
   "source": [
    "# Resposta do exercício 2b\n",
    "def testeFFT2(M,N):\n",
    "    # seu código aqui...\n",
    "    for k in range(M):\n",
    "        for l in range(N):\n",
    "            e_kl = np.zeros((M,N), dtype=complex)\n",
    "            e_kl[k][l] = 1\n",
    "            assert np.linalg.norm(DFT2ingenua(e_kl)-FFT2(e_kl)) < 1e-8\n",
    "\n",
    "for M,N in [(2**b,2**c) for (b,c) in np.ndindex((5,5))]:\n",
    "    testeFFT2(M,N)\n",
    "    print(f\"A função FFT2 passou no teste com MxN={M}x{N}!\")"
   ]
  },
  {
   "cell_type": "code",
   "execution_count": null,
   "metadata": {},
   "outputs": [],
   "source": []
  }
 ],
 "metadata": {
  "celltoolbar": "Slideshow",
  "kernelspec": {
   "display_name": "Python 3",
   "language": "python",
   "name": "python3"
  },
  "language_info": {
   "codemirror_mode": {
    "name": "ipython",
    "version": 3
   },
   "file_extension": ".py",
   "mimetype": "text/x-python",
   "name": "python",
   "nbconvert_exporter": "python",
   "pygments_lexer": "ipython3",
   "version": "3.7.11"
  }
 },
 "nbformat": 4,
 "nbformat_minor": 2
}
