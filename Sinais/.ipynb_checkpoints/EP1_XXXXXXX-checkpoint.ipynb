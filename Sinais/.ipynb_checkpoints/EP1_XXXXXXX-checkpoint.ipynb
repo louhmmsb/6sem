{
 "cells": [
  {
   "cell_type": "markdown",
   "metadata": {},
   "source": [
    "## Atividade Prática 1: Amostragem e rebatimento\n",
    "\n",
    "### Nome: Lourenço Henrique Moinheiro Martins Sborz Bogo\n",
    "\n",
    "### N⁰ USP: 11208005\n",
    "\n",
    "Nessa tarefa exploraremos a amostragem de sinais e imagens sintetizados a partir de funções senoidais, e o efeito de rebatimento resultante da relação entre a taxa de amostragem e a frequência do sinal."
   ]
  },
  {
   "cell_type": "markdown",
   "metadata": {},
   "source": [
    "#### Dependências dessa tarefa"
   ]
  },
  {
   "cell_type": "code",
   "execution_count": null,
   "metadata": {},
   "outputs": [],
   "source": [
    "import math as m\n",
    "import numpy as np\n",
    "import matplotlib.pyplot as plt\n",
    "from IPython.display import Audio"
   ]
  },
  {
   "cell_type": "markdown",
   "metadata": {},
   "source": [
    "#### Exercício 1:\n",
    "\n",
    "(a) construa um sinal de 1 seg de duração com frequência f = 4000 Hz e taxa de amostragem R = 40000 Hz:\n",
    "\n",
    "$$x(t) = \\sin(2\\pi f t)\\quad\\quad t=0,\\frac{1}{R},\\frac{2}{R},\\ldots,1-\\frac{1}{R}$$\n",
    "\n",
    "(b) Plote um trecho do sinal correspondente a 5 períodos completos (ou seja, quando $2\\pi ft=5\\cdot 2\\pi$).\n",
    "\n",
    "(c) Adicione um widget para reproduzir o sinal (já resolvido)."
   ]
  },
  {
   "cell_type": "code",
   "execution_count": null,
   "metadata": {},
   "outputs": [],
   "source": [
    "# Exercício 1(a)\n",
    "# Dicas: não use laços! Use np.arange para construir um vetor t\n",
    "# e passe uma expressão com o vetor t para a função np.sin"
   ]
  },
  {
   "cell_type": "code",
   "execution_count": null,
   "metadata": {},
   "outputs": [],
   "source": [
    "# Exercício 1(b)\n",
    "# Dica: use plt.plot(tempo,sinal)"
   ]
  },
  {
   "cell_type": "code",
   "execution_count": null,
   "metadata": {
    "scrolled": true
   },
   "outputs": [],
   "source": [
    "# Exercício 1(c) resolvido\n",
    "display(Audio(x, rate=R))"
   ]
  },
  {
   "cell_type": "markdown",
   "metadata": {},
   "source": [
    "#### Exercício 2:\n",
    "\n",
    "Repita a construção do exercício 1 com a mesma frequência e taxa de amostragem R = 10000 Hz. Comente na célula após o código as diferenças visuais e auditivas observadas, se houver."
   ]
  },
  {
   "cell_type": "code",
   "execution_count": null,
   "metadata": {},
   "outputs": [],
   "source": [
    "# Exercício 2"
   ]
  },
  {
   "cell_type": "markdown",
   "metadata": {
    "scrolled": true
   },
   "source": [
    "#### Inclua aqui os comentários referentes ao exercício 2"
   ]
  },
  {
   "cell_type": "markdown",
   "metadata": {
    "scrolled": true
   },
   "source": []
  },
  {
   "cell_type": "markdown",
   "metadata": {},
   "source": [
    "#### Exercício 3:\n",
    "\n",
    "Repita a construção do exercício 1 com a mesma frequência e taxa de amostragem R = 5000 Hz. Comente na célula após o código as diferenças visuais e auditivas observadas, se houver."
   ]
  },
  {
   "cell_type": "code",
   "execution_count": null,
   "metadata": {
    "scrolled": false
   },
   "outputs": [],
   "source": [
    "# Exercício 3\n"
   ]
  },
  {
   "cell_type": "markdown",
   "metadata": {
    "scrolled": true
   },
   "source": [
    "#### Inclua aqui os comentários referentes ao exercício 3"
   ]
  },
  {
   "cell_type": "markdown",
   "metadata": {
    "scrolled": true
   },
   "source": []
  },
  {
   "cell_type": "markdown",
   "metadata": {},
   "source": [
    "#### Exercício 4:\n",
    "\n",
    "(a) Construa um gráfico sobrepondo as formas de onda dos exercícios 1 e 3\n",
    "\n",
    "(b) Estime a frequência aparente do sinal produzido no ex. 3 a partir do gráfico do item (a)"
   ]
  },
  {
   "cell_type": "code",
   "execution_count": null,
   "metadata": {
    "scrolled": true
   },
   "outputs": [],
   "source": [
    "# Exercício 4(a)\n",
    "# Dica: basta fazer chamadas consecutivas da função plt.plot()"
   ]
  },
  {
   "cell_type": "markdown",
   "metadata": {},
   "source": [
    "#### Inclua aqui os comentários referentes ao exercício 4(b)"
   ]
  },
  {
   "cell_type": "markdown",
   "metadata": {},
   "source": []
  },
  {
   "cell_type": "markdown",
   "metadata": {},
   "source": [
    "## Explicação: o fenômeno do rebatimento\n",
    "\n",
    "**O problema:** existem infinitos valores de $f$ e $g$ tais que\n",
    "\n",
    "$$\\sin\\left(2\\pi f\\frac{n}{R}\\right) = \\sin\\left(2\\pi g\\frac{n}{R}\\right), \\forall n\\in\\mathbb{Z}$$\n",
    "\n",
    "Para essa condição valer, basta que os argumentos das senoides acima correspondam sempre a ângulos equivalentes. Isso ocorre, por exemplo, quando\n",
    "\n",
    "$$2\\pi f\\frac{n}{R} = 2\\pi g\\frac{n}{R} + k\\cdot 2\\pi\\cdot n$$\n",
    "\n",
    "para *algum* $k\\in\\mathbb{Z}$ e para *qualquer* $n\\in\\mathbb{Z}$. A condição acima equivale a\n",
    "\n",
    "$$f-g = kR.$$\n",
    "\n",
    "A mesma condição vale para que dois cossenos de frequências $f$ e $g$ produzam a mesma lista de amostras, e analogamente para duas exponenciais complexas de frequências f e g:\n",
    "\n",
    "$$\\begin{array}{cl}\n",
    "e^{i2\\pi f\\frac{n}{R}} = e^{i2\\pi g\\frac{n}{R}}, \\forall n\\in\\mathbb{Z}\\\\\n",
    "\\Updownarrow\\\\\n",
    "e^{i2\\pi (f-g)\\frac{n}{R}}=1, \\forall n\\in\\mathbb{Z}\\\\\n",
    "\\Updownarrow\\\\\n",
    "e^{i2\\pi (f-g)\\frac{n}{R}}=e^{i2\\pi n}, \\forall n\\in\\mathbb{Z}&\\left(\\mbox{obs:}\\ e^{i2\\pi n}=(e^{i2\\pi})^n=1^n\\right)\\\\\n",
    "\\Updownarrow\\\\\n",
    "\\forall n\\in\\mathbb{Z}\\quad\\exists k\\in\\mathbb{Z}: 2\\pi (f-g)\\frac{n}{R} = k2\\pi n\\\\\n",
    "\\Updownarrow\\\\\n",
    "\\exists k\\in\\mathbb{Z}: f-g = kR & \\left(\\mbox{obs:}\\ \\exists k\\ \\mbox{para}\\ n=1 \\implies 2\\pi (f-g)\\frac{1}{R} = k2\\pi\\right).\n",
    "\\end{array}\n",
    "$$\n",
    "\n",
    "Assim, ao utilizarmos uma taxa de amostragem R, todas as senoides e/ou exponenciais com frequências\n",
    "\n",
    "$$g=\\ldots,f-3R,f-2R,f-R,f,f+R,f+2R,f+3R\\ldots$$\n",
    "\n",
    "gerarão a mesma lista de amostras que aquela com frequência $f$."
   ]
  },
  {
   "cell_type": "markdown",
   "metadata": {},
   "source": [
    "### Aliasing traz duas implicações importantes:\n",
    "\n",
    "> - implicação física/perceptual: ao se amostrar um sinal analógico com taxa de amostragem $R$, perde-se a capacidade de discernir frequências separadas por múltiplos de $R$, e em particular os valores que não estão na faixa $-\\frac{R}{2}<f\\le \\frac{R}{2}$ serão representados incorretamente (rebatidos), correspondendo a alguma outra frequência (aparente) que pertence à faixa representável.\n",
    "\n",
    "> - implicação matemática: para se analisar um sinal a $R$ Hz, basta considerar frequências na faixa $-\\frac{R}{2}<f\\le \\frac{R}{2}$.\n",
    "\n",
    "Essas implicações ilustram a condição de Shannon-Nyquist, que afirma que para representar corretamente componentes senoidais de até $F$ Hz é necessário utilizar uma taxa de amostragem $R\\ge 2F$ Hz. Elas também explicam a necessidade de utilização de filtros passa-baixas na conversão analógico-digital.\n",
    "\n"
   ]
  },
  {
   "cell_type": "markdown",
   "metadata": {},
   "source": [
    "#### Exercício 5:\n",
    "\n",
    "Calcule a frequência aparente $f$ na faixa $-\\frac{R}{2}<f\\le \\frac{R}{2}$ que corresponde exatamente ao sinal digital gerado no exercício 3, justificando suas contas no contexto da discussão acima."
   ]
  },
  {
   "cell_type": "markdown",
   "metadata": {
    "scrolled": true
   },
   "source": [
    "#### Inclua aqui as contas e comentários referentes ao exercício 5"
   ]
  },
  {
   "cell_type": "markdown",
   "metadata": {
    "scrolled": true
   },
   "source": []
  },
  {
   "cell_type": "markdown",
   "metadata": {},
   "source": [
    "#### Exercício 6:\n",
    "\n",
    "Considere a função\n",
    "\n",
    "$$f(x,y)=\\sin(2\\pi(50x+70y))$$\n",
    "\n",
    "definida no retângulo $(x,y)\\in[0,1]\\times[0,1]$. O código abaixo contrói as imagens correspondentes a essa função, usando taxas de amostragem iguais nas duas variáveis com os valores $R=50,60,70,80,700$ (ciclos por unidade espacial).\n",
    "\n",
    "Justifique na célula após o código os padrões observados em função das frequências aparentes $f_x$ e $f_y$ conforme a discussão acima. Considere que as frequências nominais $g_x=50$ e $g_y=70$ correspondem às flutuações horizontais e verticais, respectivamente."
   ]
  },
  {
   "cell_type": "code",
   "execution_count": null,
   "metadata": {},
   "outputs": [],
   "source": [
    "R=[50,60,70,80,700]\n",
    "for j in range(len(R)):\n",
    "    x = np.arange(0,1,1/R[j])\n",
    "    y = np.arange(0,1,1/R[j])\n",
    "    # np.meshgrid(x,y) retorna duas matrizes X e Y\n",
    "    # onde cada linha de X contém uma cópia do vetor x\n",
    "    # e cada coluna de Y uma cópia do vetor y.\n",
    "    X, Y = np.meshgrid(x,y)\n",
    "    f = np.sin(2 * m.pi * (50*X + 70*Y))\n",
    "    plt.figure(figsize=(10,10))\n",
    "    # origin=\"lower\" converte a orientação das linhas da matriz para a orientação usual do eixo y no R²\n",
    "    plt.imshow(f, origin=\"lower\", interpolation=\"none\", cmap='gray', vmin=-1, vmax=+1)"
   ]
  },
  {
   "cell_type": "markdown",
   "metadata": {
    "scrolled": true
   },
   "source": [
    "#### Inclua aqui as contas e comentários referentes ao exercício 6:"
   ]
  },
  {
   "cell_type": "markdown",
   "metadata": {
    "scrolled": true
   },
   "source": []
  }
 ],
 "metadata": {
  "kernelspec": {
   "display_name": "Python 3",
   "language": "python",
   "name": "python3"
  },
  "language_info": {
   "codemirror_mode": {
    "name": "ipython",
    "version": 3
   },
   "file_extension": ".py",
   "mimetype": "text/x-python",
   "name": "python",
   "nbconvert_exporter": "python",
   "pygments_lexer": "ipython3",
   "version": "3.7.11"
  }
 },
 "nbformat": 4,
 "nbformat_minor": 2
}
